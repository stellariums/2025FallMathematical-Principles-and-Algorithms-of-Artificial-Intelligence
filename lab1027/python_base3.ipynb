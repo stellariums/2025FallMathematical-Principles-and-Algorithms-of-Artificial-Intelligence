{
 "cells": [
  {
   "cell_type": "code",
   "execution_count": 1,
   "id": "eaf8dad0",
   "metadata": {},
   "outputs": [
    {
     "name": "stdout",
     "output_type": "stream",
     "text": [
      "12\n",
      "160\n"
     ]
    }
   ],
   "source": [
    "##### start of Listing 4.1 ##### \n",
    "def gcd(a, b):\n",
    "    \"\"\" 辗转相减法求两个正整数a和b的最大公约数 \"\"\"\n",
    "    while a != b:\n",
    "        if a > b:\n",
    "           a -= b;\n",
    "        else:\n",
    "           b -= a;\n",
    "    return a\n",
    "\n",
    "print(gcd(156, 732))  \n",
    "print(gcd(1280, 800))  \n",
    "##### end of Listing 4.1 ##### "
   ]
  },
  {
   "cell_type": "code",
   "execution_count": 2,
   "id": "17d2db1e",
   "metadata": {},
   "outputs": [
    {
     "name": "stdout",
     "output_type": "stream",
     "text": [
      "(156, 34)\n",
      "(800, 12)\n"
     ]
    }
   ],
   "source": [
    "##### start of Listing 4.2 ##### \n",
    "def max_min(a, b):\n",
    "    \"\"\" 计算a和b的最大值和最小值 \"\"\"\n",
    "    if a > b:\n",
    "        return a, b\n",
    "    else:\n",
    "        return b, a\n",
    "\n",
    "print(max_min(156, 34))  \n",
    "print(max_min(12, 800))  \n",
    "##### end of Listing 4.2 ##### "
   ]
  },
  {
   "cell_type": "code",
   "execution_count": null,
   "id": "f3cabf83",
   "metadata": {},
   "outputs": [
    {
     "name": "stdout",
     "output_type": "stream",
     "text": [
      "40\n",
      "b = 10\n"
     ]
    }
   ],
   "source": [
    "##### start of Listing 4.3 ##### \n",
    "b = 10\n",
    "c = 15\n",
    "def f(a):\n",
    "    b = 20\n",
    "    return a + b + c\n",
    "print(f(5))  \n",
    "print('b = %d' % b)  \n",
    "##### end of Listing 4.3 ##### "
   ]
  },
  {
   "cell_type": "code",
   "execution_count": 5,
   "id": "3eb140d0",
   "metadata": {},
   "outputs": [
    {
     "name": "stdout",
     "output_type": "stream",
     "text": [
      "b = 10\n",
      "b = 10\n",
      "40\n",
      "b = 20\n"
     ]
    }
   ],
   "source": [
    "##### start of Listing 4.4 ##### \n",
    "b = 10\n",
    "c = 15\n",
    "print('b = %d' % b)  \n",
    "\n",
    "def f(a):\n",
    "    global b\n",
    "    b = 20\n",
    "    return a + b + c\n",
    "print('b = %d' % b)  \n",
    "print(f(5))  \n",
    "print('b = %d' % b)  \n",
    "##### end of Listing 4.4 ##### "
   ]
  },
  {
   "cell_type": "code",
   "execution_count": 6,
   "id": "baa62ca2",
   "metadata": {},
   "outputs": [
    {
     "name": "stdout",
     "output_type": "stream",
     "text": [
      "[41, 43, 47]\n",
      "[127, 131, 137, 139]\n",
      "[83, 89, 97]\n",
      "[137, 139, 149]\n"
     ]
    }
   ],
   "source": [
    "\n",
    "##### start of Listing 4.5 ##### \n",
    "import math\n",
    "def get_primes(lb, ub=100):\n",
    "    \"\"\" 求解给定取值范围[lb, ub]内的所有质数 \"\"\"\n",
    "    primes = []\n",
    "    if lb % 2 == 0: lb += 1\n",
    "    if ub % 2 == 0: ub -= 1\n",
    "    for i in range(lb, ub + 1, 2):\n",
    "        isPrime = True\n",
    "        for j in range(2, math.ceil(math.sqrt(i)) + 1):\n",
    "            if i % j == 0:\n",
    "                isPrime = False\n",
    "                break\n",
    "        if isPrime: primes.append(i)\n",
    "    return primes\n",
    "\n",
    "print(get_primes(40, 50))  \n",
    "print(get_primes(120, 140))  \n",
    "print(get_primes(80))  \n",
    "print(get_primes(ub=150, lb=136))  \n",
    "##### end of Listing 4.5 ##### "
   ]
  },
  {
   "cell_type": "code",
   "execution_count": 7,
   "id": "425d8337",
   "metadata": {},
   "outputs": [
    {
     "name": "stdout",
     "output_type": "stream",
     "text": [
      "<class 'tuple'> <class 'dict'>\n",
      "The positional arguments are (1, 2.3, 'a', True)\n",
      "The keyword arguments are {'u': 6, 'x': 'Python', 'f': 3.1415}\n"
     ]
    }
   ],
   "source": [
    "##### start of Listing 4.6 ##### \n",
    "def fun(*args, **kwargs):\n",
    "    print(type(args), type(kwargs))\n",
    "    print('The positional arguments are', args)\n",
    "    print('The keyword arguments are', kwargs)\n",
    "\n",
    "fun(1, 2.3, 'a', True, u=6, x='Python', f=3.1415)\n",
    "##### end of Listing 4.6 ##### \n"
   ]
  },
  {
   "cell_type": "code",
   "execution_count": 9,
   "id": "5bf733d2",
   "metadata": {},
   "outputs": [
    {
     "data": {
      "text/plain": [
       "['dog', 'elephant', 'goat', 'penguin', 'rabbit', 'tiger']"
      ]
     },
     "execution_count": 9,
     "metadata": {},
     "output_type": "execute_result"
    }
   ],
   "source": [
    "animals = [\"elephant\", \"tiger\", \"rabbit\", \"goat\", \"dog\",\n",
    "                  \"penguin\"]\n",
    "sorted(animals)"
   ]
  },
  {
   "cell_type": "code",
   "execution_count": 10,
   "id": "e5536d83",
   "metadata": {},
   "outputs": [
    {
     "data": {
      "text/plain": [
       "['dog', 'goat', 'tiger', 'rabbit', 'penguin', 'elephant']"
      ]
     },
     "execution_count": 10,
     "metadata": {},
     "output_type": "execute_result"
    }
   ],
   "source": [
    "sorted(animals, key=len)"
   ]
  },
  {
   "cell_type": "code",
   "execution_count": 11,
   "id": "3f2d33af",
   "metadata": {},
   "outputs": [
    {
     "data": {
      "text/plain": [
       "['elephant', 'penguin', 'rabbit', 'tiger', 'goat', 'dog']"
      ]
     },
     "execution_count": 11,
     "metadata": {},
     "output_type": "execute_result"
    }
   ],
   "source": [
    "sorted(animals, key=len, reverse=True)"
   ]
  },
  {
   "cell_type": "code",
   "execution_count": 12,
   "id": "d82e32d4",
   "metadata": {},
   "outputs": [
    {
     "data": {
      "text/plain": [
       "['elephant', 'rabbit', 'goat', 'dog', 'tiger', 'penguin']"
      ]
     },
     "execution_count": 12,
     "metadata": {},
     "output_type": "execute_result"
    }
   ],
   "source": [
    "def m1(s): return ord(min(s))\n",
    "sorted(animals, key=m1)"
   ]
  },
  {
   "cell_type": "markdown",
   "id": "c9aff1a4",
   "metadata": {},
   "source": []
  },
  {
   "cell_type": "code",
   "execution_count": 13,
   "id": "a55723cf",
   "metadata": {},
   "outputs": [
    {
     "data": {
      "text/plain": [
       "['goat', 'rabbit', 'elephant', 'dog', 'tiger', 'penguin']"
      ]
     },
     "execution_count": 13,
     "metadata": {},
     "output_type": "execute_result"
    }
   ],
   "source": [
    "def m2(s): return ord(min(s)), len(s)\n",
    "sorted(animals, key=m2)"
   ]
  },
  {
   "cell_type": "code",
   "execution_count": 14,
   "id": "e929c315",
   "metadata": {},
   "outputs": [
    {
     "data": {
      "text/plain": [
       "'a'"
      ]
     },
     "execution_count": 14,
     "metadata": {},
     "output_type": "execute_result"
    }
   ],
   "source": [
    "min('goat')"
   ]
  },
  {
   "cell_type": "code",
   "execution_count": 15,
   "id": "07990d4b",
   "metadata": {},
   "outputs": [
    {
     "name": "stdout",
     "output_type": "stream",
     "text": [
      "[2, 4, 6, 8, 10]\n",
      "[3, 15, 35, 63, 99]\n"
     ]
    }
   ],
   "source": [
    "##### start of Listing 4.8 ##### \n",
    "def map_fs(f, s):\n",
    "    for i in range(len(s)): s[i] = f(s[i])\n",
    "    return s\n",
    "\n",
    "a = [1, 3, 5, 7, 9]\n",
    "print(map_fs(lambda x: x+1, a))  \n",
    "print(map_fs(lambda x: x*x-1, a))  \n",
    "##### end of Listing 4.8 ##### "
   ]
  },
  {
   "cell_type": "code",
   "execution_count": 16,
   "id": "d6fc0260",
   "metadata": {},
   "outputs": [],
   "source": [
    "f = lambda x: x+1"
   ]
  },
  {
   "cell_type": "code",
   "execution_count": 17,
   "id": "6597ec59",
   "metadata": {},
   "outputs": [
    {
     "data": {
      "text/plain": [
       "5"
      ]
     },
     "execution_count": 17,
     "metadata": {},
     "output_type": "execute_result"
    }
   ],
   "source": [
    "f(4)"
   ]
  },
  {
   "cell_type": "code",
   "execution_count": 18,
   "id": "4cc34299",
   "metadata": {},
   "outputs": [
    {
     "name": "stdout",
     "output_type": "stream",
     "text": [
      "['dog', 'elephant', 'goat', 'penguin', 'rabbit', 'tiger']\n",
      "['dog', 'goat', 'tiger', 'rabbit', 'penguin', 'elephant']\n",
      "['elephant', 'rabbit', 'goat', 'dog', 'tiger', 'penguin']\n",
      "['goat', 'rabbit', 'elephant', 'dog', 'tiger', 'penguin']\n"
     ]
    }
   ],
   "source": [
    "##### start of Listing 4.9 ##### \n",
    "def key_fun(n):\n",
    "    def m1(s): return ord(min(s))\n",
    "    def m2(s): return ord(min(s)), len(s)\n",
    "\n",
    "    ms = [None, len, m1, m2]\n",
    "    return ms[n]\n",
    "\n",
    "animals = [\"elephant\", \"tiger\", \"rabbit\", \"goat\", \"dog\", \"penguin\"]\n",
    "for i in range(4):\n",
    "    print(sorted(animals, key=key_fun(i)))\n",
    "##### end of Listing 4.9 ##### "
   ]
  },
  {
   "cell_type": "code",
   "execution_count": 19,
   "id": "913b6a34",
   "metadata": {},
   "outputs": [
    {
     "name": "stdout",
     "output_type": "stream",
     "text": [
      "3628800\n"
     ]
    }
   ],
   "source": [
    "##### start of Listing 4.11 ##### \n",
    "def factorial(n):\n",
    "    if n == 1:\n",
    "        return 1\n",
    "    else:\n",
    "        return n * factorial(n - 1)\n",
    "\n",
    "print(factorial(10))  \n",
    "##### end of Listing 4.11 ##### \n"
   ]
  },
  {
   "cell_type": "code",
   "execution_count": 20,
   "id": "44b9c4f5",
   "metadata": {},
   "outputs": [
    {
     "name": "stdout",
     "output_type": "stream",
     "text": [
      "12\n"
     ]
    }
   ],
   "source": [
    "##### start of Listing 4.12 ##### \n",
    "def gcd(a, b):\n",
    "    if a == b:\n",
    "        return a\n",
    "    elif a > b:\n",
    "        return gcd(a-b, b)\n",
    "    else:\n",
    "        return gcd(a, b-a)\n",
    "\n",
    "print(gcd(156, 732))  \n",
    "##### end of Listing 4.12 ##### "
   ]
  },
  {
   "cell_type": "code",
   "execution_count": 21,
   "id": "67ca604e",
   "metadata": {},
   "outputs": [
    {
     "name": "stdout",
     "output_type": "stream",
     "text": [
      "EDCBA\n"
     ]
    }
   ],
   "source": [
    "##### start of Listing 4.13 ##### \n",
    "def reverse(s):\n",
    "    if len(s) == 1:\n",
    "        return s\n",
    "    else:\n",
    "        return s[-1] + reverse(s[:-1])\n",
    "\n",
    "print(reverse(\"ABCDE\"))  \n",
    "##### end of Listing 4.13 ##### \n"
   ]
  },
  {
   "cell_type": "code",
   "execution_count": 23,
   "id": "5cc719e4",
   "metadata": {},
   "outputs": [
    {
     "name": "stdout",
     "output_type": "stream",
     "text": [
      "[1, 2, 3, 3, 6, 7, 8, 9]\n"
     ]
    }
   ],
   "source": [
    "##### start of Listing 4.14 ##### \n",
    "def qsort(s):\n",
    "    if len(s) <= 1: return s\n",
    "    s_less = []; s_greater = []; s_equal = []\n",
    "    for k in s:\n",
    "        if k < s[0]:\n",
    "            s_less.append(k)\n",
    "        elif k > s[0]:\n",
    "            s_greater.append(k)\n",
    "        else:\n",
    "            s_equal.append(k)\n",
    "    return qsort(s_less) + s_equal + qsort(s_greater)\n",
    "\n",
    "print(qsort([3, 6, 2, 9, 7, 3, 1, 8])) \n",
    "##### end of Listing 4.14 ##### \n"
   ]
  },
  {
   "cell_type": "code",
   "execution_count": 48,
   "id": "50aa4ffe",
   "metadata": {},
   "outputs": [
    {
     "name": "stdout",
     "output_type": "stream",
     "text": [
      "Sat\n"
     ]
    }
   ],
   "source": [
    "##### start of Listing 4.17 ##### \n",
    "import tescalender\n",
    "y, m, d = 2025, 10, 18\n",
    "n = (tescalender.get_m01_in_week(y, m) + d - 1) % 7\n",
    "dw = \"Sun Mon Tue Wed Thu Fri Sat\"\n",
    "print(dw[4*n:4*n+4])  \n",
    "##### end of Listing 4.17 ##### \n"
   ]
  },
  {
   "cell_type": "code",
   "execution_count": 40,
   "id": "952d9be8",
   "metadata": {},
   "outputs": [],
   "source": [
    "import sys; sys.path.insert(0, 'D:\\work\\modcreat\\d2l\\files')"
   ]
  },
  {
   "cell_type": "code",
   "execution_count": 44,
   "id": "8dbd4ae6",
   "metadata": {},
   "outputs": [
    {
     "name": "stdout",
     "output_type": "stream",
     "text": [
      "2025  10 \n",
      "---------------------------\n",
      "Sun Mon Tue Wed Thu Fri Sat\n",
      "            1   2   3   4   \n",
      "5   6   7   8   9   10  11  \n",
      "12  13  14  15  16  17  18  \n",
      "19  20  21  22  23  24  25  \n",
      "26  27  28  29  30  31  "
     ]
    }
   ],
   "source": [
    "run tescalender.py --year 2025 --month 10"
   ]
  },
  {
   "cell_type": "code",
   "execution_count": 45,
   "id": "7bb87521",
   "metadata": {},
   "outputs": [
    {
     "name": "stdout",
     "output_type": "stream",
     "text": [
      "    October 2022\n",
      "Mo Tu We Th Fr Sa Su\n",
      "                1  2\n",
      " 3  4  5  6  7  8  9\n",
      "10 11 12 13 14 15 16\n",
      "17 18 19 20 21 22 23\n",
      "24 25 26 27 28 29 30\n",
      "31\n",
      "\n",
      "                                               2022\n",
      "\n",
      "      January                   February                   March                     April\n",
      "Mo Tu We Th Fr Sa Su      Mo Tu We Th Fr Sa Su      Mo Tu We Th Fr Sa Su      Mo Tu We Th Fr Sa Su\n",
      "                1  2          1  2  3  4  5  6          1  2  3  4  5  6                   1  2  3\n",
      " 3  4  5  6  7  8  9       7  8  9 10 11 12 13       7  8  9 10 11 12 13       4  5  6  7  8  9 10\n",
      "10 11 12 13 14 15 16      14 15 16 17 18 19 20      14 15 16 17 18 19 20      11 12 13 14 15 16 17\n",
      "17 18 19 20 21 22 23      21 22 23 24 25 26 27      21 22 23 24 25 26 27      18 19 20 21 22 23 24\n",
      "24 25 26 27 28 29 30      28                        28 29 30 31               25 26 27 28 29 30\n",
      "31\n",
      "\n",
      "        May                       June                      July                     August\n",
      "Mo Tu We Th Fr Sa Su      Mo Tu We Th Fr Sa Su      Mo Tu We Th Fr Sa Su      Mo Tu We Th Fr Sa Su\n",
      "                   1             1  2  3  4  5                   1  2  3       1  2  3  4  5  6  7\n",
      " 2  3  4  5  6  7  8       6  7  8  9 10 11 12       4  5  6  7  8  9 10       8  9 10 11 12 13 14\n",
      " 9 10 11 12 13 14 15      13 14 15 16 17 18 19      11 12 13 14 15 16 17      15 16 17 18 19 20 21\n",
      "16 17 18 19 20 21 22      20 21 22 23 24 25 26      18 19 20 21 22 23 24      22 23 24 25 26 27 28\n",
      "23 24 25 26 27 28 29      27 28 29 30               25 26 27 28 29 30 31      29 30 31\n",
      "30 31\n",
      "\n",
      "     September                  October                   November                  December\n",
      "Mo Tu We Th Fr Sa Su      Mo Tu We Th Fr Sa Su      Mo Tu We Th Fr Sa Su      Mo Tu We Th Fr Sa Su\n",
      "          1  2  3  4                      1  2          1  2  3  4  5  6                1  2  3  4\n",
      " 5  6  7  8  9 10 11       3  4  5  6  7  8  9       7  8  9 10 11 12 13       5  6  7  8  9 10 11\n",
      "12 13 14 15 16 17 18      10 11 12 13 14 15 16      14 15 16 17 18 19 20      12 13 14 15 16 17 18\n",
      "19 20 21 22 23 24 25      17 18 19 20 21 22 23      21 22 23 24 25 26 27      19 20 21 22 23 24 25\n",
      "26 27 28 29 30            24 25 26 27 28 29 30      28 29 30                  26 27 28 29 30 31\n",
      "                          31\n",
      "\n"
     ]
    }
   ],
   "source": [
    "\n",
    "##### start of Listing 4.20 ##### \n",
    "from calendar import TextCalendar\n",
    "tc = TextCalendar()\n",
    "print(tc.formatmonth(2022, 10))\n",
    "print(tc.formatyear(2022, m=4))\n",
    "##### end of Listing 4.20 ##### "
   ]
  },
  {
   "cell_type": "code",
   "execution_count": 19,
   "id": "ece9f29c",
   "metadata": {},
   "outputs": [
    {
     "name": "stdout",
     "output_type": "stream",
     "text": [
      "0\n",
      "not found\n",
      "9\n",
      "not found\n",
      "4\n"
     ]
    }
   ],
   "source": [
    "##### start of Listing 4.21 ##### \n",
    "def is_sorted(s):  \n",
    "    for i in range(0,len(s)):\n",
    "        if s[i]>s[i+1]:\n",
    "            return False\n",
    "        return True\n",
    "\n",
    "def qsort(s):  \n",
    "    if len(s) <= 1: return s\n",
    "    s_less = []; s_greater = []; s_equal = []\n",
    "    for k in s:\n",
    "        if k < s[0]:\n",
    "            s_less.append(k)\n",
    "        elif k > s[0]:\n",
    "            s_greater.append(k)\n",
    "        else:\n",
    "            s_equal.append(k)\n",
    "    return qsort(s_less) + s_equal + qsort(s_greater)\n",
    "\n",
    "def binary_search(s, low, high, k): \n",
    "    if low>high:\n",
    "        return \"not found\"\n",
    "    mid=(low+high)//2\n",
    "    if k==s[mid]:\n",
    "        return mid\n",
    "    elif k<s[mid]:\n",
    "        return binary_search(s,low,mid-1,k)\n",
    "    else:\n",
    "        return binary_search(s,mid+1,high,k)\n",
    "\n",
    "s = [5, 6, 21, 32, 51, 60, 67, 73, 77, 99]\n",
    "\n",
    "if not is_sorted(s):\n",
    "    s = qsort(s)\n",
    "    print(s)\n",
    "\n",
    "print(binary_search(s, 0, len(s) - 1, 5))  \n",
    "print(binary_search(s, 0, len(s) - 1, 31)) \n",
    "print(binary_search(s, 0, len(s) - 1, 99)) \n",
    "print(binary_search(s, 0, len(s) - 1, 64)) \n",
    "print(binary_search(s, 0, len(s) - 1, 51)) \n",
    "##### end of Listing 4.21 ##### "
   ]
  },
  {
   "cell_type": "code",
   "execution_count": null,
   "id": "a43c09f8",
   "metadata": {},
   "outputs": [],
   "source": [
    "##### start of Listing 4.22 ##### \n",
    "\"\"\"\n",
    "Module for performing arithmetic operations for rational numbers.\n",
    "\n",
    "To run the module, user needs to supply three named parameters:\n",
    "1. op stands for the operation:\n",
    "    add for addition\n",
    "    sub for subtraction\n",
    "    mul for multiplication\n",
    "    div for division\n",
    "2. x stands for the first operand\n",
    "3. y stands for the second operand\n",
    "\n",
    "x and y must be enclosed in paired parentheses.\n",
    "\n",
    "For example:\n",
    "\n",
    ">>> run rational.py --op add --x (2/3) --y (-70/40)\n",
    "-13/12\n",
    ">>> run rational.py --op sub --x (-20/3) --y (120/470)\n",
    "-976/141\n",
    ">>> run rational.py --op mul --x (-6/19) --y (114/-18)\n",
    "2/1\n",
    ">>> run rational.py --op div --x (-6/19) --y (-114/-28)\n",
    "-28/361\n",
    "\"\"\"\n",
    "\n",
    "import sys, math\n",
    "\n",
    "def test_all_functions():  \n",
    "    pass\n",
    "    \n",
    "\n",
    "def gcd(a, b):  \n",
    "    while a != b:\n",
    "        if a > b:\n",
    "            a -= b\n",
    "        else:\n",
    "            b -= a\n",
    "    return a\n",
    "\n",
    "def reduce(n, d):  \n",
    "    if d < 0:\n",
    "        n,d=-n,-d\n",
    "    maxfac=gcd(n,d)\n",
    "    return n//maxfac,d//maxfac\n",
    "\n",
    "def add(x, y):  \n",
    "    new=[]\n",
    "    new.append(x[0]*y[1]+y[0]*x[1])\n",
    "    new.append(x[1]*y[1])\n",
    "    new[0],new[1]=reduce(new[0],new[1])\n",
    "    return new\n",
    "\n",
    "def sub(x, y):  \n",
    "    new=[]\n",
    "    new.append(x[0]*y[1]-y[0]*x[1])\n",
    "    new.append(x[1]*y[1])\n",
    "    new[0],new[1]=reduce(new[0],new[1])\n",
    "    return new\n",
    "\n",
    "def mul(x, y):  \n",
    "    new=[]\n",
    "    new.append(x[0]*y[0])\n",
    "    new.append(x[1]*y[1])\n",
    "    new[0],new[1]=reduce(new[0],new[1])\n",
    "    return new\n",
    "\n",
    "def div(x, y):  \n",
    "    new=[]\n",
    "    new.append(x[0]*y[1])\n",
    "    new.append(x[1]*y[0])\n",
    "    new[0],new[1]=reduce(new[0],new[1])\n",
    "    return new\n",
    "\n",
    "def output(x):  \n",
    "    print(f'{x[0]}/{x[1]}')\n",
    "def get_rational(s):  \n",
    "    s = s.strip().strip('()')\n",
    "    parts = s.split('/')\n",
    "    n = int(parts[0])\n",
    "    d = int(parts[1])\n",
    "    return [n,d]\n",
    "if __name__ == '__main__':\n",
    "    if len(sys.argv) == 1:\n",
    "        print(__doc__)\n",
    "    elif len(sys.argv) == 2 and sys.argv[1] == '-h':\n",
    "        print(__doc__)\n",
    "    elif len(sys.argv) == 2 and sys.argv[1] == 'test':\n",
    "        test_all_functions()\n",
    "    else:\n",
    "        import argparse\n",
    "        parser = argparse.ArgumentParser()\n",
    "        parser.add_argument('--op', type=str)\n",
    "        parser.add_argument('--x', type=str)\n",
    "        parser.add_argument('--y', type=str)\n",
    "        args = parser.parse_args()\n",
    "        op = args.op\n",
    "        x = get_rational(args.x); y = get_rational(args.y)\n",
    "        f = {'add':add, 'sub':sub, 'mul':mul, 'div':div}\n",
    "        output(f[op](x, y))\n",
    "##### end of Listing 4.22 ##### "
   ]
  }
 ],
 "metadata": {
  "kernelspec": {
   "display_name": "d2l",
   "language": "python",
   "name": "python3"
  },
  "language_info": {
   "codemirror_mode": {
    "name": "ipython",
    "version": 3
   },
   "file_extension": ".py",
   "mimetype": "text/x-python",
   "name": "python",
   "nbconvert_exporter": "python",
   "pygments_lexer": "ipython3",
   "version": "3.12.10"
  }
 },
 "nbformat": 4,
 "nbformat_minor": 5
}
