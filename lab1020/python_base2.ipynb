{
 "cells": [
  {
   "cell_type": "code",
   "execution_count": 2,
   "id": "85b19147-9227-41e0-9460-3e1723deb7f8",
   "metadata": {},
   "outputs": [
    {
     "name": "stdin",
     "output_type": "stream",
     "text": [
      "Please enter an integer:  -10\n"
     ]
    },
    {
     "name": "stdout",
     "output_type": "stream",
     "text": [
      "The absolute value of -10 is 10\n"
     ]
    }
   ],
   "source": [
    "x = int(input(\"Please enter an integer: \"))\n",
    "y = x\n",
    "if x < 0:\n",
    "    y = -x\n",
    "print(\"The absolute value of %d is %d\" %(x, y))"
   ]
  },
  {
   "cell_type": "code",
   "execution_count": 3,
   "id": "329560ba-696f-4f52-9464-691b38b6e2d4",
   "metadata": {},
   "outputs": [
    {
     "name": "stdin",
     "output_type": "stream",
     "text": [
      "Please enter an integer:  -20\n"
     ]
    },
    {
     "name": "stdout",
     "output_type": "stream",
     "text": [
      "The absolute value of -20 is 20\n"
     ]
    }
   ],
   "source": [
    "x = int(input(\"Please enter an integer: \"))\n",
    "if x < 0:\n",
    "    y = -x\n",
    "else:\n",
    "    y = x\n",
    "print(\"The absolute value of %d is %d\" %(x, y))"
   ]
  },
  {
   "cell_type": "code",
   "execution_count": 4,
   "id": "1029184d-f687-49c7-ae1e-4fe487e66f55",
   "metadata": {},
   "outputs": [
    {
     "name": "stdin",
     "output_type": "stream",
     "text": [
      "Please enter an integer:  -30\n"
     ]
    },
    {
     "name": "stdout",
     "output_type": "stream",
     "text": [
      "The absolute value of -30 is 30\n"
     ]
    }
   ],
   "source": [
    "x = int(input(\"Please enter an integer: \"))\n",
    "y = -x if x < 0 else x\n",
    "print(\"The absolute value of %d is %d\" %(x, y))"
   ]
  },
  {
   "cell_type": "code",
   "execution_count": 5,
   "id": "614f176c-8e2b-46c4-9975-ab3bbf728bfb",
   "metadata": {},
   "outputs": [
    {
     "name": "stdin",
     "output_type": "stream",
     "text": [
      "Please enter a score within [0, 100]:  40\n"
     ]
    },
    {
     "name": "stdout",
     "output_type": "stream",
     "text": [
      "The grade of score 40 is F\n"
     ]
    }
   ],
   "source": [
    "x = int(input(\"Please enter a score within [0, 100]: \"))\n",
    "grade = 'F'          \n",
    "if x > 100 or x < 0:\n",
    "    grade = 'Z'      \n",
    "elif x >= 90:\n",
    "    grade = 'A'      \n",
    "elif x >= 80:\n",
    "    grade = 'B'      \n",
    "elif x >= 70:\n",
    "    grade = 'C'      \n",
    "elif x >= 60:\n",
    "    grade = 'D'      \n",
    "print(\"The grade of score %d is %c\" %(x, grade))"
   ]
  },
  {
   "cell_type": "code",
   "execution_count": 6,
   "id": "e62bb232-7711-42dc-87b2-b186fb5999c4",
   "metadata": {},
   "outputs": [
    {
     "name": "stdout",
     "output_type": "stream",
     "text": [
      "The sum of 1 to 10 is 55\n"
     ]
    }
   ],
   "source": [
    "sum = 0; n = 10\n",
    "for i in range(1, n+1):\n",
    "    sum += i\n",
    "print(\"The sum of 1 to %d is %d\" % (n, sum))"
   ]
  },
  {
   "cell_type": "code",
   "execution_count": 7,
   "id": "f55a3efa-89ed-49bd-ba20-512f84f93102",
   "metadata": {},
   "outputs": [
    {
     "name": "stdout",
     "output_type": "stream",
     "text": [
      "100 102 104 106 108 110 112 114 116 118 120 "
     ]
    }
   ],
   "source": [
    "lb = 100; ub = 120\n",
    "for i in range(lb, ub+1, 2):\n",
    "    print(i, end=' ')"
   ]
  },
  {
   "cell_type": "code",
   "execution_count": 8,
   "id": "ca03a99c-0892-4f3f-b120-ca7a3903a65e",
   "metadata": {},
   "outputs": [
    {
     "name": "stdout",
     "output_type": "stream",
     "text": [
      "18 12 78 "
     ]
    }
   ],
   "source": [
    "nums = {25, 18, 91, 365, 12, 78, 59}\n",
    "for i in nums:\n",
    "    if i % 3 != 0: continue\n",
    "    print(i, end=' ')"
   ]
  },
  {
   "cell_type": "code",
   "execution_count": 9,
   "id": "362efe3f-f481-4704-8c10-00227be5a1d9",
   "metadata": {},
   "outputs": [
    {
     "name": "stdout",
     "output_type": "stream",
     "text": [
      "Tom -> 12345; Jerry -> 54321; Mary -> 23415; \n",
      "Tom -> 12345; Jerry -> 54321; Mary -> 23415; "
     ]
    }
   ],
   "source": [
    "contacts = {\"Tom\":12345, \"Jerry\":54321, \"Mary\":23415}\n",
    "\n",
    "for name, num in contacts.items():\n",
    "    print('%s -> %d' % (name, num), end='; ')\n",
    "print()\n",
    "for name in contacts.keys():\n",
    "    print('%s -> %d' % (name, contacts[name]), end='; ')"
   ]
  },
  {
   "cell_type": "code",
   "execution_count": 10,
   "id": "b1d9d196-3c87-4219-8417-a222f4fc125b",
   "metadata": {},
   "outputs": [
    {
     "name": "stdout",
     "output_type": "stream",
     "text": [
      "(P : 80) (y : 121) (t : 116) (h : 104) (o : 111) (n : 110) "
     ]
    }
   ],
   "source": [
    "s = 'Python'\n",
    "for c in s:\n",
    "    print('(%s : %d)' % (c, ord(c)), end=' ')"
   ]
  },
  {
   "cell_type": "code",
   "execution_count": 11,
   "id": "1bac0409-f143-437f-84fb-0d2ce664f641",
   "metadata": {},
   "outputs": [
    {
     "name": "stdout",
     "output_type": "stream",
     "text": [
      "99 5\n"
     ]
    }
   ],
   "source": [
    "s = [21, 73, 6, 67, 99, 60, 77, 5, 51, 32]\n",
    "max = s[0]; min = s[0]\n",
    "for i in range(1, len(s)):\n",
    "    if max < s[i]: max = s[i] \n",
    "    if min > s[i]: min = s[i]\n",
    "print(max, min)  "
   ]
  },
  {
   "cell_type": "code",
   "execution_count": 31,
   "id": "53063563-476b-44fc-a9ce-d8424c62f7d8",
   "metadata": {},
   "outputs": [
    {
     "name": "stdout",
     "output_type": "stream",
     "text": [
      "The sum of 1 to 10 is 55\n"
     ]
    }
   ],
   "source": [
    "mysum = 0; n = 10; i = 1\n",
    "while i <= n:\n",
    "    mysum += i\n",
    "    i += 1\n",
    "print(\"The sum of 1 to %d is %d\" % (n, mysum))"
   ]
  },
  {
   "cell_type": "code",
   "execution_count": 13,
   "id": "780d8910-fd32-4814-8b31-ce904941b669",
   "metadata": {},
   "outputs": [
    {
     "name": "stdout",
     "output_type": "stream",
     "text": [
      "100 102 104 106 108 110 112 114 116 118 120 "
     ]
    }
   ],
   "source": [
    "i = lb = 100; ub = 120\n",
    "while i <= ub:\n",
    "    print(i, end=' ')\n",
    "    i += 2"
   ]
  },
  {
   "cell_type": "code",
   "execution_count": 14,
   "id": "a5d3d216-0616-447c-9111-57c469db4444",
   "metadata": {},
   "outputs": [
    {
     "name": "stdout",
     "output_type": "stream",
     "text": [
      "The greatest common divisor of 156 and 732 is 12\n"
     ]
    }
   ],
   "source": [
    "##### start of Listing 3.14 ##### \n",
    "a = 156; b = 732\n",
    "str = 'The greatest common divisor of %d and %d is ' % (a, b)\n",
    "while a != b:\n",
    "    if a > b:\n",
    "        a -= b;\n",
    "    else:\n",
    "        b -= a;\n",
    "print(str + ('%d' % a))\n",
    "##### end of Listing 3.14 ##### "
   ]
  },
  {
   "cell_type": "code",
   "execution_count": 24,
   "id": "9bfbaba0-98a5-46d7-918b-58a0c7e292ac",
   "metadata": {},
   "outputs": [
    {
     "name": "stdout",
     "output_type": "stream",
     "text": [
      "The greatest common divisor of 156 and 732 is 12\n"
     ]
    }
   ],
   "source": [
    "def gcd(a, b):\n",
    "    while b != 0:\n",
    "        a, b = b, a % b\n",
    "    return a\n",
    "\n",
    "a = 156; b = 732; c = gcd(a, b);\n",
    "\n",
    "\n",
    "print('The greatest common divisor of %d and %d is %d' % (a, b, c))\n",
    "    "
   ]
  },
  {
   "cell_type": "code",
   "execution_count": 25,
   "id": "f61f5f7a-7e81-4621-a17a-756564ab37a1",
   "metadata": {},
   "outputs": [
    {
     "name": "stdout",
     "output_type": "stream",
     "text": [
      "[18, 12, 78]\n",
      "{8281, 3481, 133225, 625}\n",
      "{59: 2, 12: 0, 365: 2, 78: 0, 18: 0, 25: 1, 91: 1}\n",
      "{12: 0, 78: 0, 18: 0}\n"
     ]
    }
   ],
   "source": [
    "##### start of Listing 3.15 ##### \n",
    "nums = {25, 18, 91, 365, 12, 78, 59}\n",
    "multiplier_of_3 = [n for n in nums if n % 3 == 0]\n",
    "print(multiplier_of_3)  \n",
    "square_of_odds = {n*n for n in nums if n % 2 == 1}\n",
    "print(square_of_odds)   \n",
    "\n",
    "s = [25, 18, 91, 365, 12, 78, 59, 18, 91]\n",
    "sr = {n:n%3 for n in set(s)}\n",
    "print(sr)  \n",
    "tr = {n:r for (n,r) in sr.items() if r==0}\n",
    "print(tr)  \n",
    "##### end of Listing 3.15 ##### "
   ]
  },
  {
   "cell_type": "code",
   "execution_count": 26,
   "id": "4f5b60c0-5365-4607-b06a-0b7aa03c00d5",
   "metadata": {},
   "outputs": [
    {
     "name": "stdout",
     "output_type": "stream",
     "text": [
      "101 103 107 109 113 127 131 137 139 149 151 157 163 167 173 179 181 191 193 197 199 "
     ]
    }
   ],
   "source": [
    "##### start of Listing 3.16 ##### \n",
    "import math\n",
    "lb = 100; ub = 200\n",
    "if lb % 2 == 0: lb += 1\n",
    "if ub % 2 == 0: ub -= 1\n",
    "for i in range(lb, ub + 1, 2):\n",
    "    isPrime = True\n",
    "    for j in range(2, math.ceil(math.sqrt(i)) + 1):\n",
    "        if i % j == 0:\n",
    "            isPrime = False\n",
    "            break\n",
    "    if isPrime: print(i, end=' ')\n",
    "##### end of Listing 3.16 ##### "
   ]
  },
  {
   "cell_type": "code",
   "execution_count": 27,
   "id": "e8e550da-ece1-4a9e-9a0f-40981d9c2e1b",
   "metadata": {},
   "outputs": [
    {
     "name": "stdout",
     "output_type": "stream",
     "text": [
      "21 99 32\n"
     ]
    }
   ],
   "source": [
    "##### start of Listing 3.17 ##### \n",
    "S = [21, 73, 6, 67, 99, 60, 77, 5, 51, 32]\n",
    "n = len(S)\n",
    "x = 152\n",
    "for i in range(n - 2):\n",
    "    for j in range(i + 1, n - 1):\n",
    "        for k in range(j + 1, n):\n",
    "            if S[i] + S[j] + S[k] == x:\n",
    "                print(S[i], S[j], S[k])  \n",
    "##### end of Listing 3.17 ##### \n"
   ]
  },
  {
   "cell_type": "code",
   "execution_count": 30,
   "id": "11406806-6109-4238-bdb9-a7a75e05546d",
   "metadata": {},
   "outputs": [
    {
     "name": "stdout",
     "output_type": "stream",
     "text": [
      "[73, 6, 5, 51] [21, 77, 5, 32] "
     ]
    }
   ],
   "source": [
    "##### start of Listing 3.18 ##### \n",
    "S = [21, 73, 6, 67, 99, 60, 77, 5, 51, 32]\n",
    "n = len(S)\n",
    "x = 135\n",
    "for i in range(1, 2 ** n):\n",
    "    T = []\n",
    "    for j in range(n-1,-1,-1):\n",
    "        if (i >> j) % 2 == 1: T.append(S[n-1-j])\n",
    "    if sum(T) == x: \n",
    "        print(T, end = ' ') \n",
    "##### end of Listing 3.18 ##### \n"
   ]
  },
  {
   "cell_type": "code",
   "execution_count": null,
   "id": "e008856b-ed9d-4f65-b829-debf2b611853",
   "metadata": {},
   "outputs": [],
   "source": []
  }
 ],
 "metadata": {
  "kernelspec": {
   "display_name": "Python 3 (ipykernel)",
   "language": "python",
   "name": "python3"
  },
  "language_info": {
   "codemirror_mode": {
    "name": "ipython",
    "version": 3
   },
   "file_extension": ".py",
   "mimetype": "text/x-python",
   "name": "python",
   "nbconvert_exporter": "python",
   "pygments_lexer": "ipython3",
   "version": "3.9.23"
  }
 },
 "nbformat": 4,
 "nbformat_minor": 5
}
