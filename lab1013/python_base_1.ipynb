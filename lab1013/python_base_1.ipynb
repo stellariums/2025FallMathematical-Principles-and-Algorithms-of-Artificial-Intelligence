{
 "cells": [
  {
   "cell_type": "code",
   "execution_count": 1,
   "id": "9e0e3f52",
   "metadata": {},
   "outputs": [
    {
     "data": {
      "text/plain": [
       "9.285714285714286"
      ]
     },
     "execution_count": 1,
     "metadata": {},
     "output_type": "execute_result"
    }
   ],
   "source": [
    "(2**2**3+4)/(7*(9-5))"
   ]
  },
  {
   "cell_type": "code",
   "execution_count": 2,
   "id": "946a48fd",
   "metadata": {},
   "outputs": [
    {
     "data": {
      "text/plain": [
       "9"
      ]
     },
     "execution_count": 2,
     "metadata": {},
     "output_type": "execute_result"
    }
   ],
   "source": [
    "(2**2**3+4)//(7*(9-5))"
   ]
  },
  {
   "cell_type": "code",
   "execution_count": 3,
   "id": "e7350420",
   "metadata": {},
   "outputs": [
    {
     "data": {
      "text/plain": [
       "8"
      ]
     },
     "execution_count": 3,
     "metadata": {},
     "output_type": "execute_result"
    }
   ],
   "source": [
    "(2**2**3+4)%(7*(9-5))"
   ]
  },
  {
   "cell_type": "code",
   "execution_count": 4,
   "id": "84fdab64",
   "metadata": {},
   "outputs": [
    {
     "data": {
      "text/plain": [
       "4.5"
      ]
     },
     "execution_count": 4,
     "metadata": {},
     "output_type": "execute_result"
    }
   ],
   "source": [
    "(32+4)/(2*(9-5))"
   ]
  },
  {
   "cell_type": "code",
   "execution_count": 5,
   "id": "034dd6aa",
   "metadata": {},
   "outputs": [
    {
     "data": {
      "text/plain": [
       "3"
      ]
     },
     "execution_count": 5,
     "metadata": {},
     "output_type": "execute_result"
    }
   ],
   "source": [
    "(32+4)//(23-13)"
   ]
  },
  {
   "cell_type": "code",
   "execution_count": 6,
   "id": "ebb5e64e",
   "metadata": {},
   "outputs": [
    {
     "data": {
      "text/plain": [
       "6"
      ]
     },
     "execution_count": 6,
     "metadata": {},
     "output_type": "execute_result"
    }
   ],
   "source": [
    "(32+4)%(23-13)"
   ]
  },
  {
   "cell_type": "code",
   "execution_count": 14,
   "id": "04f0cd6a",
   "metadata": {},
   "outputs": [],
   "source": [
    "x=379516400906811930638014896080"
   ]
  },
  {
   "cell_type": "code",
   "execution_count": 15,
   "id": "273ead04",
   "metadata": {},
   "outputs": [
    {
     "data": {
      "text/plain": [
       "144032698557259999607886110560755362973171476419973199366400"
      ]
     },
     "execution_count": 15,
     "metadata": {},
     "output_type": "execute_result"
    }
   ],
   "source": [
    "x**2"
   ]
  },
  {
   "cell_type": "code",
   "execution_count": 16,
   "id": "835d6f52",
   "metadata": {},
   "outputs": [],
   "source": [
    "y=12055735790331359447442538767"
   ]
  },
  {
   "cell_type": "code",
   "execution_count": 17,
   "id": "10721061",
   "metadata": {},
   "outputs": [
    {
     "data": {
      "text/plain": [
       "144032698557259999607886110560755362973171476419973199366399"
      ]
     },
     "execution_count": 17,
     "metadata": {},
     "output_type": "execute_result"
    }
   ],
   "source": [
    "991*y**2"
   ]
  },
  {
   "cell_type": "code",
   "execution_count": 19,
   "id": "ddadae67",
   "metadata": {},
   "outputs": [
    {
     "data": {
      "text/plain": [
       "-1"
      ]
     },
     "execution_count": 19,
     "metadata": {},
     "output_type": "execute_result"
    }
   ],
   "source": [
    "991*y**2-x**2"
   ]
  },
  {
   "cell_type": "code",
   "execution_count": 20,
   "id": "1113ae33",
   "metadata": {},
   "outputs": [
    {
     "data": {
      "text/plain": [
       "0"
      ]
     },
     "execution_count": 20,
     "metadata": {},
     "output_type": "execute_result"
    }
   ],
   "source": [
    "x**2-991*y**2-1"
   ]
  },
  {
   "cell_type": "code",
   "execution_count": 27,
   "id": "77aa9f8d",
   "metadata": {},
   "outputs": [
    {
     "data": {
      "text/plain": [
       "('0b101101111', '0b11110111101')"
      ]
     },
     "execution_count": 27,
     "metadata": {},
     "output_type": "execute_result"
    }
   ],
   "source": [
    "bin(367), bin(1981)"
   ]
  },
  {
   "cell_type": "code",
   "execution_count": 22,
   "id": "e8da4778",
   "metadata": {},
   "outputs": [
    {
     "data": {
      "text/plain": [
       "('0b11111111111', '0b100101101', '0b11011010010')"
      ]
     },
     "execution_count": 22,
     "metadata": {},
     "output_type": "execute_result"
    }
   ],
   "source": [
    "bin(367 | 1981), bin(367 & 1981), bin(367 ^ 1981)"
   ]
  },
  {
   "cell_type": "code",
   "execution_count": 28,
   "id": "72507e63",
   "metadata": {},
   "outputs": [
    {
     "data": {
      "text/plain": [
       "('-0b11110111110', '0b11110111101000', '0b11110111')"
      ]
     },
     "execution_count": 28,
     "metadata": {},
     "output_type": "execute_result"
    }
   ],
   "source": [
    "bin(~1981), bin(1981 << 3), bin(1981 >> 3)"
   ]
  },
  {
   "cell_type": "code",
   "execution_count": 29,
   "id": "3092fd16",
   "metadata": {},
   "outputs": [
    {
     "data": {
      "text/plain": [
       "11592.740743"
      ]
     },
     "execution_count": 29,
     "metadata": {},
     "output_type": "execute_result"
    }
   ],
   "source": [
    "10000*(1.03)**5"
   ]
  },
  {
   "cell_type": "code",
   "execution_count": 30,
   "id": "89ecf119",
   "metadata": {},
   "outputs": [
    {
     "data": {
      "text/plain": [
       "1.2091341548676164"
      ]
     },
     "execution_count": 30,
     "metadata": {},
     "output_type": "execute_result"
    }
   ],
   "source": [
    "(327.6-78.65)/(2.3+0.13)**6"
   ]
  },
  {
   "cell_type": "code",
   "execution_count": 31,
   "id": "75500ad1",
   "metadata": {},
   "outputs": [
    {
     "data": {
      "text/plain": [
       "0.09999999999999964"
      ]
     },
     "execution_count": 31,
     "metadata": {},
     "output_type": "execute_result"
    }
   ],
   "source": [
    "4.5-4.4"
   ]
  },
  {
   "cell_type": "code",
   "execution_count": 32,
   "id": "4958fa91",
   "metadata": {},
   "outputs": [
    {
     "data": {
      "text/plain": [
       "1.7976931348623157e+308"
      ]
     },
     "execution_count": 32,
     "metadata": {},
     "output_type": "execute_result"
    }
   ],
   "source": [
    "import sys; max = sys.float_info.max; max"
   ]
  },
  {
   "cell_type": "code",
   "execution_count": 33,
   "id": "c7999c9b",
   "metadata": {},
   "outputs": [
    {
     "data": {
      "text/plain": [
       "inf"
      ]
     },
     "execution_count": 33,
     "metadata": {},
     "output_type": "execute_result"
    }
   ],
   "source": [
    "max*1.00001"
   ]
  },
  {
   "cell_type": "code",
   "execution_count": 34,
   "id": "b69d87a8",
   "metadata": {},
   "outputs": [
    {
     "data": {
      "text/plain": [
       "2.225074e-318"
      ]
     },
     "execution_count": 34,
     "metadata": {},
     "output_type": "execute_result"
    }
   ],
   "source": [
    "sys.float_info.min*1e-10"
   ]
  },
  {
   "cell_type": "code",
   "execution_count": 35,
   "id": "8788e209",
   "metadata": {},
   "outputs": [
    {
     "data": {
      "text/plain": [
       "1.2345678909876543e+38"
      ]
     },
     "execution_count": 35,
     "metadata": {},
     "output_type": "execute_result"
    }
   ],
   "source": [
    "1.234567890987654321e38"
   ]
  },
  {
   "cell_type": "code",
   "execution_count": 36,
   "id": "e90e1a5c",
   "metadata": {},
   "outputs": [],
   "source": [
    "x = 3 - 5j"
   ]
  },
  {
   "cell_type": "code",
   "execution_count": 37,
   "id": "8725702a",
   "metadata": {},
   "outputs": [],
   "source": [
    "y = -(6 - 21j)"
   ]
  },
  {
   "cell_type": "code",
   "execution_count": 38,
   "id": "46a7e649",
   "metadata": {},
   "outputs": [
    {
     "data": {
      "text/plain": [
       "(-2.7021404738144748-6.422968879823101j)"
      ]
     },
     "execution_count": 38,
     "metadata": {},
     "output_type": "execute_result"
    }
   ],
   "source": [
    "(x+y)/(x - y**2)*(x**3 + y - 3j)"
   ]
  },
  {
   "cell_type": "code",
   "execution_count": 39,
   "id": "a2c12b76",
   "metadata": {},
   "outputs": [
    {
     "data": {
      "text/plain": [
       "3.0"
      ]
     },
     "execution_count": 39,
     "metadata": {},
     "output_type": "execute_result"
    }
   ],
   "source": [
    "x.real"
   ]
  },
  {
   "cell_type": "code",
   "execution_count": 40,
   "id": "70b2123b",
   "metadata": {},
   "outputs": [
    {
     "data": {
      "text/plain": [
       "-5.0"
      ]
     },
     "execution_count": 40,
     "metadata": {},
     "output_type": "execute_result"
    }
   ],
   "source": [
    "x.imag"
   ]
  },
  {
   "cell_type": "code",
   "execution_count": 41,
   "id": "957dcd66",
   "metadata": {},
   "outputs": [
    {
     "data": {
      "text/plain": [
       "(3+5j)"
      ]
     },
     "execution_count": 41,
     "metadata": {},
     "output_type": "execute_result"
    }
   ],
   "source": [
    "x.conjugate()"
   ]
  },
  {
   "cell_type": "code",
   "execution_count": 42,
   "id": "00979b2f",
   "metadata": {},
   "outputs": [],
   "source": [
    "x = -15.6"
   ]
  },
  {
   "cell_type": "code",
   "execution_count": 43,
   "id": "1c481122",
   "metadata": {},
   "outputs": [
    {
     "data": {
      "text/plain": [
       "-15"
      ]
     },
     "execution_count": 43,
     "metadata": {},
     "output_type": "execute_result"
    }
   ],
   "source": [
    "y = int(x); y"
   ]
  },
  {
   "cell_type": "code",
   "execution_count": 44,
   "id": "4f76d95e",
   "metadata": {},
   "outputs": [
    {
     "data": {
      "text/plain": [
       "int"
      ]
     },
     "execution_count": 44,
     "metadata": {},
     "output_type": "execute_result"
    }
   ],
   "source": [
    "type(y)"
   ]
  },
  {
   "cell_type": "code",
   "execution_count": 45,
   "id": "9b06d249",
   "metadata": {},
   "outputs": [
    {
     "data": {
      "text/plain": [
       "-15.0"
      ]
     },
     "execution_count": 45,
     "metadata": {},
     "output_type": "execute_result"
    }
   ],
   "source": [
    "x=float(y); x"
   ]
  },
  {
   "cell_type": "code",
   "execution_count": 46,
   "id": "2adf7b9b",
   "metadata": {},
   "outputs": [
    {
     "data": {
      "text/plain": [
       "float"
      ]
     },
     "execution_count": 46,
     "metadata": {},
     "output_type": "execute_result"
    }
   ],
   "source": [
    "type(x)"
   ]
  },
  {
   "cell_type": "code",
   "execution_count": 47,
   "id": "18bf60eb",
   "metadata": {},
   "outputs": [
    {
     "data": {
      "text/plain": [
       "(15+17j)"
      ]
     },
     "execution_count": 47,
     "metadata": {},
     "output_type": "execute_result"
    }
   ],
   "source": [
    "z = complex(abs(x),(2 - y)); z"
   ]
  },
  {
   "cell_type": "code",
   "execution_count": 48,
   "id": "bb996db2",
   "metadata": {},
   "outputs": [
    {
     "data": {
      "text/plain": [
       "22.67156809750927"
      ]
     },
     "execution_count": 48,
     "metadata": {},
     "output_type": "execute_result"
    }
   ],
   "source": [
    "abs(z)"
   ]
  },
  {
   "cell_type": "code",
   "execution_count": 49,
   "id": "edb310f7",
   "metadata": {},
   "outputs": [
    {
     "data": {
      "text/plain": [
       "(25.356121702712144+48.04684343957561j)"
      ]
     },
     "execution_count": 49,
     "metadata": {},
     "output_type": "execute_result"
    }
   ],
   "source": [
    "pow(z, 1.28)"
   ]
  },
  {
   "cell_type": "code",
   "execution_count": 50,
   "id": "e3edd7a8",
   "metadata": {},
   "outputs": [
    {
     "data": {
      "text/plain": [
       "(-20.006681963602524-35.28791909603722j)"
      ]
     },
     "execution_count": 50,
     "metadata": {},
     "output_type": "execute_result"
    }
   ],
   "source": [
    "pow(1.28, z)"
   ]
  },
  {
   "cell_type": "code",
   "execution_count": 51,
   "id": "f2a6d9cf",
   "metadata": {},
   "outputs": [],
   "source": [
    "import math; a=2; b=6; c=1"
   ]
  },
  {
   "cell_type": "code",
   "execution_count": 52,
   "id": "73d9b032",
   "metadata": {},
   "outputs": [
    {
     "data": {
      "text/plain": [
       "-0.17712434446770464"
      ]
     },
     "execution_count": 52,
     "metadata": {},
     "output_type": "execute_result"
    }
   ],
   "source": [
    "r1 = (-b + math.sqrt(b**2 - 4*a*c))/(2*a); r1"
   ]
  },
  {
   "cell_type": "code",
   "execution_count": 53,
   "id": "f5fe1cc3",
   "metadata": {},
   "outputs": [
    {
     "data": {
      "text/plain": [
       "-2.8228756555322954"
      ]
     },
     "execution_count": 53,
     "metadata": {},
     "output_type": "execute_result"
    }
   ],
   "source": [
    "r2 = (-b - math.sqrt(b**2 - 4*a*c))/(2*a); r2"
   ]
  },
  {
   "cell_type": "code",
   "execution_count": 54,
   "id": "5e9d76b8",
   "metadata": {},
   "outputs": [],
   "source": [
    "a=2; b=6; c=8"
   ]
  },
  {
   "cell_type": "code",
   "execution_count": 55,
   "id": "ee3e0489",
   "metadata": {},
   "outputs": [
    {
     "ename": "ValueError",
     "evalue": "math domain error",
     "output_type": "error",
     "traceback": [
      "\u001b[1;31m---------------------------------------------------------------------------\u001b[0m",
      "\u001b[1;31mValueError\u001b[0m                                Traceback (most recent call last)",
      "Cell \u001b[1;32mIn[55], line 1\u001b[0m\n\u001b[1;32m----> 1\u001b[0m r1 \u001b[38;5;241m=\u001b[39m (\u001b[38;5;241m-\u001b[39mb \u001b[38;5;241m+\u001b[39m \u001b[43mmath\u001b[49m\u001b[38;5;241;43m.\u001b[39;49m\u001b[43msqrt\u001b[49m\u001b[43m(\u001b[49m\u001b[43mb\u001b[49m\u001b[38;5;241;43m*\u001b[39;49m\u001b[38;5;241;43m*\u001b[39;49m\u001b[38;5;241;43m2\u001b[39;49m\u001b[43m \u001b[49m\u001b[38;5;241;43m-\u001b[39;49m\u001b[43m \u001b[49m\u001b[38;5;241;43m4\u001b[39;49m\u001b[38;5;241;43m*\u001b[39;49m\u001b[43ma\u001b[49m\u001b[38;5;241;43m*\u001b[39;49m\u001b[43mc\u001b[49m\u001b[43m)\u001b[49m)\u001b[38;5;241m/\u001b[39m(\u001b[38;5;241m2\u001b[39m\u001b[38;5;241m*\u001b[39ma); r1\n",
      "\u001b[1;31mValueError\u001b[0m: math domain error"
     ]
    }
   ],
   "source": [
    "r1 = (-b + math.sqrt(b**2 - 4*a*c))/(2*a); r1"
   ]
  },
  {
   "cell_type": "code",
   "execution_count": 56,
   "id": "e3e6a820",
   "metadata": {},
   "outputs": [],
   "source": [
    "import cmath"
   ]
  },
  {
   "cell_type": "code",
   "execution_count": 57,
   "id": "d413e34c",
   "metadata": {},
   "outputs": [
    {
     "data": {
      "text/plain": [
       "(-1.5+1.3228756555322954j)"
      ]
     },
     "execution_count": 57,
     "metadata": {},
     "output_type": "execute_result"
    }
   ],
   "source": [
    "r1 = (-b + cmath.sqrt(b**2 - 4*a*c))/(2*a); r1"
   ]
  },
  {
   "cell_type": "code",
   "execution_count": 58,
   "id": "79b8cf0e",
   "metadata": {},
   "outputs": [
    {
     "data": {
      "text/plain": [
       "(-1.5-1.3228756555322954j)"
      ]
     },
     "execution_count": 58,
     "metadata": {},
     "output_type": "execute_result"
    }
   ],
   "source": [
    "r2 = (-b - cmath.sqrt(b**2 - 4*a*c))/(2*a); r2"
   ]
  },
  {
   "cell_type": "code",
   "execution_count": 59,
   "id": "29a01774",
   "metadata": {},
   "outputs": [
    {
     "data": {
      "text/plain": [
       "(-5, -6)"
      ]
     },
     "execution_count": 59,
     "metadata": {},
     "output_type": "execute_result"
    }
   ],
   "source": [
    "math.ceil(-5.3), math.floor(-5.3)"
   ]
  },
  {
   "cell_type": "code",
   "execution_count": 60,
   "id": "9b412e89",
   "metadata": {},
   "outputs": [
    {
     "data": {
      "text/plain": [
       "3628800"
      ]
     },
     "execution_count": 60,
     "metadata": {},
     "output_type": "execute_result"
    }
   ],
   "source": [
    "math.factorial(10)"
   ]
  },
  {
   "cell_type": "code",
   "execution_count": 61,
   "id": "0838f6f1",
   "metadata": {},
   "outputs": [
    {
     "data": {
      "text/plain": [
       "1.7320508075688772"
      ]
     },
     "execution_count": 61,
     "metadata": {},
     "output_type": "execute_result"
    }
   ],
   "source": [
    "math.sqrt(3)"
   ]
  },
  {
   "cell_type": "code",
   "execution_count": 62,
   "id": "f21175b5",
   "metadata": {},
   "outputs": [
    {
     "data": {
      "text/plain": [
       "7.38905609893065"
      ]
     },
     "execution_count": 62,
     "metadata": {},
     "output_type": "execute_result"
    }
   ],
   "source": [
    "math.exp(2)"
   ]
  },
  {
   "cell_type": "code",
   "execution_count": 63,
   "id": "4d698a44",
   "metadata": {},
   "outputs": [
    {
     "data": {
      "text/plain": [
       "2.0"
      ]
     },
     "execution_count": 63,
     "metadata": {},
     "output_type": "execute_result"
    }
   ],
   "source": [
    "math.log(7.38905609893065)"
   ]
  },
  {
   "cell_type": "code",
   "execution_count": 64,
   "id": "85324d05",
   "metadata": {},
   "outputs": [
    {
     "data": {
      "text/plain": [
       "2.0"
      ]
     },
     "execution_count": 64,
     "metadata": {},
     "output_type": "execute_result"
    }
   ],
   "source": [
    "math.log(7.38905609893065, math.e)"
   ]
  },
  {
   "cell_type": "code",
   "execution_count": 65,
   "id": "a61bf366",
   "metadata": {},
   "outputs": [
    {
     "data": {
      "text/plain": [
       "16.0"
      ]
     },
     "execution_count": 65,
     "metadata": {},
     "output_type": "execute_result"
    }
   ],
   "source": [
    "math.log2(65536)"
   ]
  },
  {
   "cell_type": "code",
   "execution_count": 66,
   "id": "209f54c1",
   "metadata": {},
   "outputs": [
    {
     "data": {
      "text/plain": [
       "-19.0"
      ]
     },
     "execution_count": 66,
     "metadata": {},
     "output_type": "execute_result"
    }
   ],
   "source": [
    "math.log10(1e-19)"
   ]
  },
  {
   "cell_type": "code",
   "execution_count": 67,
   "id": "ea1eb7f2",
   "metadata": {},
   "outputs": [
    {
     "data": {
      "text/plain": [
       "0.8660254037844386"
      ]
     },
     "execution_count": 67,
     "metadata": {},
     "output_type": "execute_result"
    }
   ],
   "source": [
    "math.sin(math.pi/3)"
   ]
  },
  {
   "cell_type": "code",
   "execution_count": 68,
   "id": "aac1336a",
   "metadata": {},
   "outputs": [],
   "source": [
    "year = 1900"
   ]
  },
  {
   "cell_type": "code",
   "execution_count": 69,
   "id": "09dfc6b7",
   "metadata": {},
   "outputs": [
    {
     "data": {
      "text/plain": [
       "False"
      ]
     },
     "execution_count": 69,
     "metadata": {},
     "output_type": "execute_result"
    }
   ],
   "source": [
    "(year % 4 == 0 and year % 100 != 0) or year % 400 == 0"
   ]
  },
  {
   "cell_type": "code",
   "execution_count": 70,
   "id": "c5a9d9e1",
   "metadata": {},
   "outputs": [],
   "source": [
    "year = 2020"
   ]
  },
  {
   "cell_type": "code",
   "execution_count": 71,
   "id": "82c1cf0d",
   "metadata": {},
   "outputs": [
    {
     "data": {
      "text/plain": [
       "True"
      ]
     },
     "execution_count": 71,
     "metadata": {},
     "output_type": "execute_result"
    }
   ],
   "source": [
    "(year % 4 == 0 and year % 100 != 0) or year % 400 == 0"
   ]
  },
  {
   "cell_type": "code",
   "execution_count": 72,
   "id": "da331812",
   "metadata": {},
   "outputs": [],
   "source": [
    "year = 2022"
   ]
  },
  {
   "cell_type": "code",
   "execution_count": 73,
   "id": "2d9df404",
   "metadata": {},
   "outputs": [
    {
     "data": {
      "text/plain": [
       "False"
      ]
     },
     "execution_count": 73,
     "metadata": {},
     "output_type": "execute_result"
    }
   ],
   "source": [
    "(year % 4 == 0 and year % 100 != 0) or year % 400 == 0"
   ]
  },
  {
   "cell_type": "code",
   "execution_count": 74,
   "id": "a58c49dc",
   "metadata": {},
   "outputs": [],
   "source": [
    "a=[1,3,5,7,9]; b=[2,4,6,8,10]"
   ]
  },
  {
   "cell_type": "code",
   "execution_count": 75,
   "id": "41027918",
   "metadata": {},
   "outputs": [
    {
     "data": {
      "text/plain": [
       "[1, 3, 5, 7, 9, 2, 4, 6, 8, 10]"
      ]
     },
     "execution_count": 75,
     "metadata": {},
     "output_type": "execute_result"
    }
   ],
   "source": [
    "c=a+b; c"
   ]
  },
  {
   "cell_type": "code",
   "execution_count": 76,
   "id": "d810e6f1",
   "metadata": {},
   "outputs": [
    {
     "data": {
      "text/plain": [
       "[1, 2, 3, 4, 5, 6, 7, 8, 9, 10]"
      ]
     },
     "execution_count": 76,
     "metadata": {},
     "output_type": "execute_result"
    }
   ],
   "source": [
    "c.sort(); c"
   ]
  },
  {
   "cell_type": "code",
   "execution_count": 77,
   "id": "ba5fea8a",
   "metadata": {},
   "outputs": [
    {
     "data": {
      "text/plain": [
       "[[1, 3, 5, 7, 9], [2, 4, 6, 8, 10]]"
      ]
     },
     "execution_count": 77,
     "metadata": {},
     "output_type": "execute_result"
    }
   ],
   "source": [
    "d=[a,b]; d"
   ]
  },
  {
   "cell_type": "code",
   "execution_count": 78,
   "id": "1b77e03d",
   "metadata": {},
   "outputs": [
    {
     "data": {
      "text/plain": [
       "[3, 6, 9]"
      ]
     },
     "execution_count": 78,
     "metadata": {},
     "output_type": "execute_result"
    }
   ],
   "source": [
    "c[2:10:3]"
   ]
  },
  {
   "cell_type": "code",
   "execution_count": 79,
   "id": "e3bdf257",
   "metadata": {},
   "outputs": [
    {
     "data": {
      "text/plain": [
       "[10, 6]"
      ]
     },
     "execution_count": 79,
     "metadata": {},
     "output_type": "execute_result"
    }
   ],
   "source": [
    "c[-1:-9:-4]"
   ]
  },
  {
   "cell_type": "code",
   "execution_count": 80,
   "id": "4e7172eb",
   "metadata": {},
   "outputs": [
    {
     "data": {
      "text/plain": [
       "9"
      ]
     },
     "execution_count": 80,
     "metadata": {},
     "output_type": "execute_result"
    }
   ],
   "source": [
    "d[0][4]"
   ]
  },
  {
   "cell_type": "code",
   "execution_count": 81,
   "id": "3b752765",
   "metadata": {},
   "outputs": [
    {
     "data": {
      "text/plain": [
       "[[1, 3, 5, 7, 9], [5, 4, 7, 8, 9]]"
      ]
     },
     "execution_count": 81,
     "metadata": {},
     "output_type": "execute_result"
    }
   ],
   "source": [
    "d[1][0:5:2]=d[0][2:5]; d"
   ]
  },
  {
   "cell_type": "code",
   "execution_count": 82,
   "id": "c993dae1",
   "metadata": {},
   "outputs": [
    {
     "data": {
      "text/plain": [
       "[]"
      ]
     },
     "execution_count": 82,
     "metadata": {},
     "output_type": "execute_result"
    }
   ],
   "source": [
    "b.clear(); b"
   ]
  },
  {
   "cell_type": "code",
   "execution_count": 83,
   "id": "9748edaa",
   "metadata": {},
   "outputs": [
    {
     "data": {
      "text/plain": [
       "(tuple, 1753633603648)"
      ]
     },
     "execution_count": 83,
     "metadata": {},
     "output_type": "execute_result"
    }
   ],
   "source": [
    "f = (); (type(f), id(f))  "
   ]
  },
  {
   "cell_type": "code",
   "execution_count": 84,
   "id": "2191b0bd",
   "metadata": {},
   "outputs": [
    {
     "data": {
      "text/plain": [
       "((3,), 1753735913184)"
      ]
     },
     "execution_count": 84,
     "metadata": {},
     "output_type": "execute_result"
    }
   ],
   "source": [
    "f = (3,); (f, id(f))"
   ]
  },
  {
   "cell_type": "code",
   "execution_count": 85,
   "id": "7f4a983a",
   "metadata": {},
   "outputs": [
    {
     "data": {
      "text/plain": [
       "((3, 4, 5), 1753738436352)"
      ]
     },
     "execution_count": 85,
     "metadata": {},
     "output_type": "execute_result"
    }
   ],
   "source": [
    "f += (4, 5); (f, id(f))"
   ]
  },
  {
   "cell_type": "code",
   "execution_count": 86,
   "id": "d9213b9b",
   "metadata": {},
   "outputs": [
    {
     "ename": "TypeError",
     "evalue": "'tuple' object does not support item assignment",
     "output_type": "error",
     "traceback": [
      "\u001b[1;31m---------------------------------------------------------------------------\u001b[0m",
      "\u001b[1;31mTypeError\u001b[0m                                 Traceback (most recent call last)",
      "Cell \u001b[1;32mIn[86], line 1\u001b[0m\n\u001b[1;32m----> 1\u001b[0m \u001b[43mf\u001b[49m\u001b[43m[\u001b[49m\u001b[38;5;241;43m2\u001b[39;49m\u001b[43m]\u001b[49m \u001b[38;5;241m=\u001b[39m \u001b[38;5;241m6\u001b[39m\n",
      "\u001b[1;31mTypeError\u001b[0m: 'tuple' object does not support item assignment"
     ]
    }
   ],
   "source": [
    "f[2] = 6"
   ]
  },
  {
   "cell_type": "code",
   "execution_count": 87,
   "id": "39339dbc",
   "metadata": {},
   "outputs": [],
   "source": [
    "s=[2,3,5,7,11]; t=[13,17]"
   ]
  },
  {
   "cell_type": "code",
   "execution_count": 88,
   "id": "822a2b61",
   "metadata": {},
   "outputs": [
    {
     "data": {
      "text/plain": [
       "(True, True)"
      ]
     },
     "execution_count": 88,
     "metadata": {},
     "output_type": "execute_result"
    }
   ],
   "source": [
    "5 in s, 6 not in s"
   ]
  },
  {
   "cell_type": "code",
   "execution_count": 89,
   "id": "a92e329a",
   "metadata": {},
   "outputs": [
    {
     "data": {
      "text/plain": [
       "[2, 3, 5, 7, 11, 13, 17]"
      ]
     },
     "execution_count": 89,
     "metadata": {},
     "output_type": "execute_result"
    }
   ],
   "source": [
    "s+t"
   ]
  },
  {
   "cell_type": "code",
   "execution_count": 90,
   "id": "c27f2a90",
   "metadata": {},
   "outputs": [
    {
     "data": {
      "text/plain": [
       "[2, 3, 5, 7, 11, 2, 3, 5, 7, 11, 2, 3, 5, 7, 11]"
      ]
     },
     "execution_count": 90,
     "metadata": {},
     "output_type": "execute_result"
    }
   ],
   "source": [
    "s*3"
   ]
  },
  {
   "cell_type": "code",
   "execution_count": 91,
   "id": "fe67af13",
   "metadata": {},
   "outputs": [
    {
     "data": {
      "text/plain": [
       "[3, 5, 7]"
      ]
     },
     "execution_count": 91,
     "metadata": {},
     "output_type": "execute_result"
    }
   ],
   "source": [
    "s[1:4]"
   ]
  },
  {
   "cell_type": "code",
   "execution_count": 92,
   "id": "c5bf56a4",
   "metadata": {},
   "outputs": [
    {
     "data": {
      "text/plain": [
       "[3, 5, 7, 11]"
      ]
     },
     "execution_count": 92,
     "metadata": {},
     "output_type": "execute_result"
    }
   ],
   "source": [
    "s[1:]"
   ]
  },
  {
   "cell_type": "code",
   "execution_count": 93,
   "id": "8028383c",
   "metadata": {},
   "outputs": [
    {
     "data": {
      "text/plain": [
       "[2, 3, 5]"
      ]
     },
     "execution_count": 93,
     "metadata": {},
     "output_type": "execute_result"
    }
   ],
   "source": [
    "s[:3]"
   ]
  },
  {
   "cell_type": "code",
   "execution_count": 94,
   "id": "d6b041af",
   "metadata": {},
   "outputs": [
    {
     "data": {
      "text/plain": [
       "[3, 7]"
      ]
     },
     "execution_count": 94,
     "metadata": {},
     "output_type": "execute_result"
    }
   ],
   "source": [
    "s[1:4:2]"
   ]
  },
  {
   "cell_type": "code",
   "execution_count": 95,
   "id": "70534ae5",
   "metadata": {},
   "outputs": [
    {
     "data": {
      "text/plain": [
       "5"
      ]
     },
     "execution_count": 95,
     "metadata": {},
     "output_type": "execute_result"
    }
   ],
   "source": [
    "len(s)"
   ]
  },
  {
   "cell_type": "code",
   "execution_count": 97,
   "id": "a346a233",
   "metadata": {},
   "outputs": [
    {
     "data": {
      "text/plain": [
       "2"
      ]
     },
     "execution_count": 97,
     "metadata": {},
     "output_type": "execute_result"
    }
   ],
   "source": [
    "min(s)"
   ]
  },
  {
   "cell_type": "code",
   "execution_count": 98,
   "id": "8c3207c2",
   "metadata": {},
   "outputs": [
    {
     "ename": "TypeError",
     "evalue": "'float' object is not callable",
     "output_type": "error",
     "traceback": [
      "\u001b[1;31m---------------------------------------------------------------------------\u001b[0m",
      "\u001b[1;31mTypeError\u001b[0m                                 Traceback (most recent call last)",
      "Cell \u001b[1;32mIn[98], line 1\u001b[0m\n\u001b[1;32m----> 1\u001b[0m \u001b[38;5;28;43mmax\u001b[39;49m\u001b[43m(\u001b[49m\u001b[43ms\u001b[49m\u001b[43m)\u001b[49m\n",
      "\u001b[1;31mTypeError\u001b[0m: 'float' object is not callable"
     ]
    }
   ],
   "source": [
    "max(s)"
   ]
  },
  {
   "cell_type": "code",
   "execution_count": 99,
   "id": "dd0b733e",
   "metadata": {},
   "outputs": [],
   "source": [
    "import builtins\n",
    "max = builtins.max"
   ]
  },
  {
   "cell_type": "code",
   "execution_count": 100,
   "id": "1f90b7ca",
   "metadata": {},
   "outputs": [
    {
     "data": {
      "text/plain": [
       "11"
      ]
     },
     "execution_count": 100,
     "metadata": {},
     "output_type": "execute_result"
    }
   ],
   "source": [
    "max(s)"
   ]
  },
  {
   "cell_type": "code",
   "execution_count": 101,
   "id": "e94b3679",
   "metadata": {},
   "outputs": [
    {
     "data": {
      "text/plain": [
       "3"
      ]
     },
     "execution_count": 101,
     "metadata": {},
     "output_type": "execute_result"
    }
   ],
   "source": [
    "s.index(7)"
   ]
  },
  {
   "cell_type": "code",
   "execution_count": 102,
   "id": "4267f26d",
   "metadata": {},
   "outputs": [
    {
     "data": {
      "text/plain": [
       "3"
      ]
     },
     "execution_count": 102,
     "metadata": {},
     "output_type": "execute_result"
    }
   ],
   "source": [
    "s.index(7,1)"
   ]
  },
  {
   "cell_type": "code",
   "execution_count": 103,
   "id": "8321998b",
   "metadata": {},
   "outputs": [
    {
     "data": {
      "text/plain": [
       "3"
      ]
     },
     "execution_count": 103,
     "metadata": {},
     "output_type": "execute_result"
    }
   ],
   "source": [
    "s.index(7,1,4)"
   ]
  },
  {
   "cell_type": "code",
   "execution_count": 104,
   "id": "8d7e8865",
   "metadata": {},
   "outputs": [
    {
     "data": {
      "text/plain": [
       "0"
      ]
     },
     "execution_count": 104,
     "metadata": {},
     "output_type": "execute_result"
    }
   ],
   "source": [
    "s.count(8)"
   ]
  },
  {
   "cell_type": "code",
   "execution_count": 105,
   "id": "a394b95c",
   "metadata": {},
   "outputs": [],
   "source": [
    "s=[2,7,5,3,11]; t=[13,21,17]"
   ]
  },
  {
   "cell_type": "code",
   "execution_count": 106,
   "id": "507a6191",
   "metadata": {},
   "outputs": [
    {
     "data": {
      "text/plain": [
       "[2, 7, 5, 8, 11]"
      ]
     },
     "execution_count": 106,
     "metadata": {},
     "output_type": "execute_result"
    }
   ],
   "source": [
    "s[3] = 8; s"
   ]
  },
  {
   "cell_type": "code",
   "execution_count": 107,
   "id": "6fbdc5bb",
   "metadata": {},
   "outputs": [
    {
     "data": {
      "text/plain": [
       "[2, 13, 21, 17, 11]"
      ]
     },
     "execution_count": 107,
     "metadata": {},
     "output_type": "execute_result"
    }
   ],
   "source": [
    "s=[2,7,5,3,11]; s[1:4] = t; s"
   ]
  },
  {
   "cell_type": "code",
   "execution_count": 108,
   "id": "a7a672ae",
   "metadata": {},
   "outputs": [
    {
     "data": {
      "text/plain": [
       "[2, 7, 11]"
      ]
     },
     "execution_count": 108,
     "metadata": {},
     "output_type": "execute_result"
    }
   ],
   "source": [
    "s=[2,7,5,3,11]; del s[2:4]; s"
   ]
  },
  {
   "cell_type": "code",
   "execution_count": 109,
   "id": "6a30ae29",
   "metadata": {},
   "outputs": [
    {
     "data": {
      "text/plain": [
       "[13, 7, 21, 3, 17]"
      ]
     },
     "execution_count": 109,
     "metadata": {},
     "output_type": "execute_result"
    }
   ],
   "source": [
    "s=[2,7,5,3,11]; s[0:5:2] = t; s"
   ]
  },
  {
   "cell_type": "code",
   "execution_count": 110,
   "id": "bb919397",
   "metadata": {},
   "outputs": [
    {
     "data": {
      "text/plain": [
       "[7, 3]"
      ]
     },
     "execution_count": 110,
     "metadata": {},
     "output_type": "execute_result"
    }
   ],
   "source": [
    "s=[2,7,5,3,11]; del s[0:5:2]; s"
   ]
  },
  {
   "cell_type": "code",
   "execution_count": 111,
   "id": "ac6c5726",
   "metadata": {},
   "outputs": [
    {
     "data": {
      "text/plain": [
       "[]"
      ]
     },
     "execution_count": 111,
     "metadata": {},
     "output_type": "execute_result"
    }
   ],
   "source": [
    "s=[2,7,5,3,11]; s.clear(); s"
   ]
  },
  {
   "cell_type": "code",
   "execution_count": 112,
   "id": "8256e27d",
   "metadata": {},
   "outputs": [
    {
     "data": {
      "text/plain": [
       "[2, 7, 5, 3, 11]"
      ]
     },
     "execution_count": 112,
     "metadata": {},
     "output_type": "execute_result"
    }
   ],
   "source": [
    "s=[2,7,5,3,11]; s.copy()"
   ]
  },
  {
   "cell_type": "code",
   "execution_count": 113,
   "id": "fe561934",
   "metadata": {},
   "outputs": [
    {
     "data": {
      "text/plain": [
       "[2, 7, 5, 3, 11, 13, 21, 17]"
      ]
     },
     "execution_count": 113,
     "metadata": {},
     "output_type": "execute_result"
    }
   ],
   "source": [
    "s=[2,7,5,3,11]; s.extend(t); s"
   ]
  },
  {
   "cell_type": "code",
   "execution_count": 114,
   "id": "840ece38",
   "metadata": {},
   "outputs": [
    {
     "data": {
      "text/plain": [
       "[2, 7, 5, 3, 11, 13, 21, 17]"
      ]
     },
     "execution_count": 114,
     "metadata": {},
     "output_type": "execute_result"
    }
   ],
   "source": [
    "s=[2,7,5,3,11]; s+=t; s"
   ]
  },
  {
   "cell_type": "code",
   "execution_count": 115,
   "id": "5be19171",
   "metadata": {},
   "outputs": [
    {
     "data": {
      "text/plain": [
       "[2, 7, 5, 3, 11, 2, 7, 5, 3, 11, 2, 7, 5, 3, 11]"
      ]
     },
     "execution_count": 115,
     "metadata": {},
     "output_type": "execute_result"
    }
   ],
   "source": [
    "s=[2,7,5,3,11]; s*=3; s"
   ]
  },
  {
   "cell_type": "code",
   "execution_count": 116,
   "id": "160e0c52",
   "metadata": {},
   "outputs": [
    {
     "data": {
      "text/plain": [
       "[2, 7, 19, 5, 3, 11]"
      ]
     },
     "execution_count": 116,
     "metadata": {},
     "output_type": "execute_result"
    }
   ],
   "source": [
    "s=[2,7,5,3,11]; s.insert(2, 19); s"
   ]
  },
  {
   "cell_type": "code",
   "execution_count": 117,
   "id": "a0dedb79",
   "metadata": {},
   "outputs": [
    {
     "data": {
      "text/plain": [
       "(5, [2, 7, 3, 11])"
      ]
     },
     "execution_count": 117,
     "metadata": {},
     "output_type": "execute_result"
    }
   ],
   "source": [
    "s=[2,7,5,3,11]; (s.pop(2),s)"
   ]
  },
  {
   "cell_type": "code",
   "execution_count": 118,
   "id": "fe23d493",
   "metadata": {},
   "outputs": [
    {
     "data": {
      "text/plain": [
       "(None, [2, 7, 5, 3])"
      ]
     },
     "execution_count": 118,
     "metadata": {},
     "output_type": "execute_result"
    }
   ],
   "source": [
    "s=[2,7,5,3,11]; (s.remove(11), s)"
   ]
  },
  {
   "cell_type": "code",
   "execution_count": 119,
   "id": "a7648273",
   "metadata": {},
   "outputs": [
    {
     "ename": "ValueError",
     "evalue": "list.remove(x): x not in list",
     "output_type": "error",
     "traceback": [
      "\u001b[1;31m---------------------------------------------------------------------------\u001b[0m",
      "\u001b[1;31mValueError\u001b[0m                                Traceback (most recent call last)",
      "Cell \u001b[1;32mIn[119], line 1\u001b[0m\n\u001b[1;32m----> 1\u001b[0m s\u001b[38;5;241m=\u001b[39m[\u001b[38;5;241m2\u001b[39m,\u001b[38;5;241m7\u001b[39m,\u001b[38;5;241m5\u001b[39m,\u001b[38;5;241m3\u001b[39m,\u001b[38;5;241m11\u001b[39m]; (\u001b[43ms\u001b[49m\u001b[38;5;241;43m.\u001b[39;49m\u001b[43mremove\u001b[49m\u001b[43m(\u001b[49m\u001b[38;5;241;43m10\u001b[39;49m\u001b[43m)\u001b[49m, s)\n",
      "\u001b[1;31mValueError\u001b[0m: list.remove(x): x not in list"
     ]
    }
   ],
   "source": [
    "s=[2,7,5,3,11]; (s.remove(10), s)"
   ]
  },
  {
   "cell_type": "code",
   "execution_count": 120,
   "id": "ccff1fe6",
   "metadata": {},
   "outputs": [
    {
     "data": {
      "text/plain": [
       "[11, 3, 5, 7, 2]"
      ]
     },
     "execution_count": 120,
     "metadata": {},
     "output_type": "execute_result"
    }
   ],
   "source": [
    "s=[2,7,5,3,11]; s.reverse(); s"
   ]
  },
  {
   "cell_type": "code",
   "execution_count": 121,
   "id": "38bf7ffb",
   "metadata": {},
   "outputs": [
    {
     "data": {
      "text/plain": [
       "[2, 3, 5, 7, 11]"
      ]
     },
     "execution_count": 121,
     "metadata": {},
     "output_type": "execute_result"
    }
   ],
   "source": [
    "s=[2,7,5,3,11]; s.sort(); s"
   ]
  },
  {
   "cell_type": "code",
   "execution_count": 122,
   "id": "69695418",
   "metadata": {},
   "outputs": [
    {
     "data": {
      "text/plain": [
       "[11, 7, 5, 3, 2]"
      ]
     },
     "execution_count": 122,
     "metadata": {},
     "output_type": "execute_result"
    }
   ],
   "source": [
    "s=[2,7,5,3,11]; s.sort(reverse=True); s"
   ]
  },
  {
   "cell_type": "code",
   "execution_count": 123,
   "id": "6f17525f",
   "metadata": {},
   "outputs": [
    {
     "data": {
      "text/plain": [
       "'allows embedded \"double\" quotes'"
      ]
     },
     "execution_count": 123,
     "metadata": {},
     "output_type": "execute_result"
    }
   ],
   "source": [
    "a = 'allows embedded \"double\" quotes'; a"
   ]
  },
  {
   "cell_type": "code",
   "execution_count": 124,
   "id": "f5fe56c3",
   "metadata": {},
   "outputs": [
    {
     "data": {
      "text/plain": [
       "\"allows embedded 'single' quotes\""
      ]
     },
     "execution_count": 124,
     "metadata": {},
     "output_type": "execute_result"
    }
   ],
   "source": [
    "b = \"allows embedded 'single' quotes\"; b"
   ]
  },
  {
   "cell_type": "code",
   "execution_count": 126,
   "id": "eab8305c",
   "metadata": {},
   "outputs": [],
   "source": [
    "c = \"\"\"a=[1,3,5,7,9]; b=[2,4,6,8,10]\n",
    "  ...: c=a+b\n",
    "  ...: c.sort(); c\"\"\""
   ]
  },
  {
   "cell_type": "code",
   "execution_count": 127,
   "id": "c9b8da91",
   "metadata": {},
   "outputs": [
    {
     "data": {
      "text/plain": [
       "'a=[1,3,5,7,9]; b=[2,4,6,8,10]\\nc=a+b\\nc.sort(); c'"
      ]
     },
     "execution_count": 127,
     "metadata": {},
     "output_type": "execute_result"
    }
   ],
   "source": [
    "c"
   ]
  },
  {
   "cell_type": "code",
   "execution_count": 128,
   "id": "0b13c2d9",
   "metadata": {},
   "outputs": [
    {
     "data": {
      "text/plain": [
       "[True, False]"
      ]
     },
     "execution_count": 128,
     "metadata": {},
     "output_type": "execute_result"
    }
   ],
   "source": [
    "d = [a.startswith('allow'), a.startswith('allou')]; d"
   ]
  },
  {
   "cell_type": "code",
   "execution_count": 136,
   "id": "ab3a56e7",
   "metadata": {},
   "outputs": [
    {
     "data": {
      "text/plain": [
       "[False, True]"
      ]
     },
     "execution_count": 136,
     "metadata": {},
     "output_type": "execute_result"
    }
   ],
   "source": [
    "e = [a.startswith('embee', 7), a.endswith('quo', 3, -3)]; e"
   ]
  },
  {
   "cell_type": "code",
   "execution_count": 137,
   "id": "74fd06b9",
   "metadata": {},
   "outputs": [
    {
     "data": {
      "text/plain": [
       "[-1, 7]"
      ]
     },
     "execution_count": 137,
     "metadata": {},
     "output_type": "execute_result"
    }
   ],
   "source": [
    "f = [a.find('em', 3, 6), a.find('em', 7)]; f"
   ]
  },
  {
   "cell_type": "code",
   "execution_count": 138,
   "id": "fad73b11",
   "metadata": {},
   "outputs": [],
   "source": [
    "g = '  hello?!!'"
   ]
  },
  {
   "cell_type": "code",
   "execution_count": 151,
   "id": "f4d00366",
   "metadata": {},
   "outputs": [
    {
     "data": {
      "text/plain": [
       "['hello?!!', '  hell', 'hello?']"
      ]
     },
     "execution_count": 151,
     "metadata": {},
     "output_type": "execute_result"
    }
   ],
   "source": [
    "h = [g.lstrip(), g.rstrip('o!?'), g.strip(' !')]; h"
   ]
  },
  {
   "cell_type": "code",
   "execution_count": 144,
   "id": "0ce5f868",
   "metadata": {},
   "outputs": [
    {
     "data": {
      "text/plain": [
       "'allows xmbxddxd \"doublx\" quotes'"
      ]
     },
     "execution_count": 144,
     "metadata": {},
     "output_type": "execute_result"
    }
   ],
   "source": [
    "a.replace('e', 'x', 4)"
   ]
  },
  {
   "cell_type": "code",
   "execution_count": 145,
   "id": "80159f44",
   "metadata": {},
   "outputs": [
    {
     "data": {
      "text/plain": [
       "'allows yymbyyddyyd \"double\" quotes'"
      ]
     },
     "execution_count": 145,
     "metadata": {},
     "output_type": "execute_result"
    }
   ],
   "source": [
    "a.replace('e', 'yy', 3)"
   ]
  },
  {
   "cell_type": "code",
   "execution_count": 146,
   "id": "bf1eb497",
   "metadata": {},
   "outputs": [
    {
     "data": {
      "text/plain": [
       "['allows ', 'mb', 'dd', 'd \"doubl', '\" quot', 's']"
      ]
     },
     "execution_count": 146,
     "metadata": {},
     "output_type": "execute_result"
    }
   ],
   "source": [
    "a.split('e')"
   ]
  },
  {
   "cell_type": "code",
   "execution_count": 153,
   "id": "e3b82236",
   "metadata": {},
   "outputs": [],
   "source": [
    "s='abc123abc';t='bc';u='BC'"
   ]
  },
  {
   "cell_type": "code",
   "execution_count": 157,
   "id": "5e5682d9",
   "metadata": {},
   "outputs": [
    {
     "data": {
      "text/plain": [
       "'abc123abc'"
      ]
     },
     "execution_count": 157,
     "metadata": {},
     "output_type": "execute_result"
    }
   ],
   "source": [
    "s.lstrip(t)"
   ]
  },
  {
   "cell_type": "code",
   "execution_count": 162,
   "id": "4939dc54",
   "metadata": {},
   "outputs": [
    {
     "data": {
      "text/plain": [
       "'abc123a'"
      ]
     },
     "execution_count": 162,
     "metadata": {},
     "output_type": "execute_result"
    }
   ],
   "source": [
    "s.rstrip(t)"
   ]
  },
  {
   "cell_type": "code",
   "execution_count": 163,
   "id": "ae640fa5",
   "metadata": {},
   "outputs": [
    {
     "data": {
      "text/plain": [
       "'aBC123aBC'"
      ]
     },
     "execution_count": 163,
     "metadata": {},
     "output_type": "execute_result"
    }
   ],
   "source": [
    "s.replace(t, u)"
   ]
  },
  {
   "cell_type": "code",
   "execution_count": 164,
   "id": "305f1f2d",
   "metadata": {},
   "outputs": [
    {
     "data": {
      "text/plain": [
       "'aBC123abc'"
      ]
     },
     "execution_count": 164,
     "metadata": {},
     "output_type": "execute_result"
    }
   ],
   "source": [
    "s.replace(t, u, 1)"
   ]
  },
  {
   "cell_type": "code",
   "execution_count": 165,
   "id": "b1722b33",
   "metadata": {},
   "outputs": [
    {
     "data": {
      "text/plain": [
       "['a', '123a', '']"
      ]
     },
     "execution_count": 165,
     "metadata": {},
     "output_type": "execute_result"
    }
   ],
   "source": [
    "s.split(t)"
   ]
  },
  {
   "cell_type": "code",
   "execution_count": 166,
   "id": "429c224e",
   "metadata": {},
   "outputs": [
    {
     "data": {
      "text/plain": [
       "'abc123abc'"
      ]
     },
     "execution_count": 166,
     "metadata": {},
     "output_type": "execute_result"
    }
   ],
   "source": [
    "t.join(['a', '123a', ''])"
   ]
  },
  {
   "cell_type": "code",
   "execution_count": 167,
   "id": "e7c5f312",
   "metadata": {},
   "outputs": [],
   "source": [
    "s='abc123abc';t='bc'"
   ]
  },
  {
   "cell_type": "code",
   "execution_count": 168,
   "id": "55970e31",
   "metadata": {},
   "outputs": [
    {
     "data": {
      "text/plain": [
       "False"
      ]
     },
     "execution_count": 168,
     "metadata": {},
     "output_type": "execute_result"
    }
   ],
   "source": [
    "s.startswith(t)"
   ]
  },
  {
   "cell_type": "code",
   "execution_count": 169,
   "id": "7638476f",
   "metadata": {},
   "outputs": [
    {
     "data": {
      "text/plain": [
       "True"
      ]
     },
     "execution_count": 169,
     "metadata": {},
     "output_type": "execute_result"
    }
   ],
   "source": [
    "s.startswith(t, 7)"
   ]
  },
  {
   "cell_type": "code",
   "execution_count": 172,
   "id": "e1cd8910",
   "metadata": {},
   "outputs": [
    {
     "data": {
      "text/plain": [
       "False"
      ]
     },
     "execution_count": 172,
     "metadata": {},
     "output_type": "execute_result"
    }
   ],
   "source": [
    "s.startswith(t, 7, 8)"
   ]
  },
  {
   "cell_type": "code",
   "execution_count": 171,
   "id": "2e4aceac",
   "metadata": {},
   "outputs": [
    {
     "data": {
      "text/plain": [
       "True"
      ]
     },
     "execution_count": 171,
     "metadata": {},
     "output_type": "execute_result"
    }
   ],
   "source": [
    "s.endswith(t)"
   ]
  },
  {
   "cell_type": "code",
   "execution_count": 173,
   "id": "e0f9b5b4",
   "metadata": {},
   "outputs": [
    {
     "data": {
      "text/plain": [
       "True"
      ]
     },
     "execution_count": 173,
     "metadata": {},
     "output_type": "execute_result"
    }
   ],
   "source": [
    "s.endswith(t, 4)"
   ]
  },
  {
   "cell_type": "code",
   "execution_count": 174,
   "id": "db114035",
   "metadata": {},
   "outputs": [
    {
     "data": {
      "text/plain": [
       "False"
      ]
     },
     "execution_count": 174,
     "metadata": {},
     "output_type": "execute_result"
    }
   ],
   "source": [
    "s.endswith(t, 4, 8)"
   ]
  },
  {
   "cell_type": "code",
   "execution_count": 175,
   "id": "e9df353e",
   "metadata": {},
   "outputs": [
    {
     "data": {
      "text/plain": [
       "True"
      ]
     },
     "execution_count": 175,
     "metadata": {},
     "output_type": "execute_result"
    }
   ],
   "source": [
    "s.endswith(t, 4, 9)"
   ]
  },
  {
   "cell_type": "code",
   "execution_count": 176,
   "id": "787e42c8",
   "metadata": {},
   "outputs": [
    {
     "data": {
      "text/plain": [
       "1"
      ]
     },
     "execution_count": 176,
     "metadata": {},
     "output_type": "execute_result"
    }
   ],
   "source": [
    "s.find(t)"
   ]
  },
  {
   "cell_type": "code",
   "execution_count": 177,
   "id": "ffcd5d6a",
   "metadata": {},
   "outputs": [
    {
     "data": {
      "text/plain": [
       "7"
      ]
     },
     "execution_count": 177,
     "metadata": {},
     "output_type": "execute_result"
    }
   ],
   "source": [
    "s.find(t, 2)"
   ]
  },
  {
   "cell_type": "code",
   "execution_count": 178,
   "id": "8335bf71",
   "metadata": {},
   "outputs": [
    {
     "data": {
      "text/plain": [
       "-1"
      ]
     },
     "execution_count": 178,
     "metadata": {},
     "output_type": "execute_result"
    }
   ],
   "source": [
    "s.find(t, 2, 8)"
   ]
  },
  {
   "cell_type": "code",
   "execution_count": 179,
   "id": "eeba8579",
   "metadata": {},
   "outputs": [
    {
     "data": {
      "text/plain": [
       "False"
      ]
     },
     "execution_count": 179,
     "metadata": {},
     "output_type": "execute_result"
    }
   ],
   "source": [
    "str.isalpha(s)"
   ]
  },
  {
   "cell_type": "code",
   "execution_count": 180,
   "id": "049a7254",
   "metadata": {},
   "outputs": [
    {
     "data": {
      "text/plain": [
       "False"
      ]
     },
     "execution_count": 180,
     "metadata": {},
     "output_type": "execute_result"
    }
   ],
   "source": [
    "str.isdecimal(s)"
   ]
  },
  {
   "cell_type": "code",
   "execution_count": 181,
   "id": "f586623f",
   "metadata": {},
   "outputs": [
    {
     "data": {
      "text/plain": [
       "True"
      ]
     },
     "execution_count": 181,
     "metadata": {},
     "output_type": "execute_result"
    }
   ],
   "source": [
    "str.isalnum(s)"
   ]
  },
  {
   "cell_type": "code",
   "execution_count": 182,
   "id": "53b3d32c",
   "metadata": {},
   "outputs": [
    {
     "data": {
      "text/plain": [
       "True"
      ]
     },
     "execution_count": 182,
     "metadata": {},
     "output_type": "execute_result"
    }
   ],
   "source": [
    "str.islower(s)"
   ]
  },
  {
   "cell_type": "code",
   "execution_count": 183,
   "id": "a82e8e92",
   "metadata": {},
   "outputs": [
    {
     "data": {
      "text/plain": [
       "'345.67898765    '"
      ]
     },
     "execution_count": 183,
     "metadata": {},
     "output_type": "execute_result"
    }
   ],
   "source": [
    "\"%-16.8f\" % 345.678987654321012"
   ]
  },
  {
   "cell_type": "code",
   "execution_count": 184,
   "id": "272798c1",
   "metadata": {},
   "outputs": [
    {
     "data": {
      "text/plain": [
       "'   3.4567899e+34'"
      ]
     },
     "execution_count": 184,
     "metadata": {},
     "output_type": "execute_result"
    }
   ],
   "source": [
    "\"%16.8g\" % 3.45678987654321012e34"
   ]
  },
  {
   "cell_type": "code",
   "execution_count": 185,
   "id": "823056e6",
   "metadata": {},
   "outputs": [
    {
     "data": {
      "text/plain": [
       "'      507C12C186 987654321012    '"
      ]
     },
     "execution_count": 185,
     "metadata": {},
     "output_type": "execute_result"
    }
   ],
   "source": [
    "\"%16X %-16d\" % (345678987654, 987654321012)"
   ]
  },
  {
   "cell_type": "code",
   "execution_count": 186,
   "id": "7507ea0a",
   "metadata": {},
   "outputs": [
    {
     "data": {
      "text/plain": [
       "([2, 3, 5, 3, 9, 2, 7, 8, 6, 3], list)"
      ]
     },
     "execution_count": 186,
     "metadata": {},
     "output_type": "execute_result"
    }
   ],
   "source": [
    "l = [2,3,5,3,9,2,7,8,6,3]; (l, type(l))"
   ]
  },
  {
   "cell_type": "code",
   "execution_count": 187,
   "id": "5a971479",
   "metadata": {},
   "outputs": [
    {
     "data": {
      "text/plain": [
       "({2, 3, 5, 6, 7, 8, 9}, set)"
      ]
     },
     "execution_count": 187,
     "metadata": {},
     "output_type": "execute_result"
    }
   ],
   "source": [
    "s = set(l); (s, type(s))"
   ]
  },
  {
   "cell_type": "code",
   "execution_count": 188,
   "id": "b4bf8718",
   "metadata": {},
   "outputs": [
    {
     "data": {
      "text/plain": [
       "({2, 3, 5, 6, 7, 8, 9}, set)"
      ]
     },
     "execution_count": 188,
     "metadata": {},
     "output_type": "execute_result"
    }
   ],
   "source": [
    "({2, 3, 5, 6, 7, 8, 9}, set)"
   ]
  },
  {
   "cell_type": "code",
   "execution_count": 189,
   "id": "b0d74658",
   "metadata": {},
   "outputs": [],
   "source": [
    "t = set([11, 2, 7, 3, 5, 13])"
   ]
  },
  {
   "cell_type": "code",
   "execution_count": 190,
   "id": "bf9fb9fb",
   "metadata": {},
   "outputs": [
    {
     "data": {
      "text/plain": [
       "{2, 3, 5, 6, 7, 8, 9, 11, 13}"
      ]
     },
     "execution_count": 190,
     "metadata": {},
     "output_type": "execute_result"
    }
   ],
   "source": [
    "s.union(t)"
   ]
  },
  {
   "cell_type": "code",
   "execution_count": 191,
   "id": "987ac698",
   "metadata": {},
   "outputs": [
    {
     "data": {
      "text/plain": [
       "{2, 3, 5, 7}"
      ]
     },
     "execution_count": 191,
     "metadata": {},
     "output_type": "execute_result"
    }
   ],
   "source": [
    "s.intersection(t)"
   ]
  },
  {
   "cell_type": "code",
   "execution_count": 192,
   "id": "4841c98e",
   "metadata": {},
   "outputs": [
    {
     "data": {
      "text/plain": [
       "{6, 8, 9}"
      ]
     },
     "execution_count": 192,
     "metadata": {},
     "output_type": "execute_result"
    }
   ],
   "source": [
    "s.difference(t)"
   ]
  },
  {
   "cell_type": "code",
   "execution_count": 193,
   "id": "010ef062",
   "metadata": {},
   "outputs": [
    {
     "data": {
      "text/plain": [
       "False"
      ]
     },
     "execution_count": 193,
     "metadata": {},
     "output_type": "execute_result"
    }
   ],
   "source": [
    "s.isdisjoint(t)"
   ]
  },
  {
   "cell_type": "code",
   "execution_count": 194,
   "id": "a0a5d656",
   "metadata": {},
   "outputs": [
    {
     "data": {
      "text/plain": [
       "False"
      ]
     },
     "execution_count": 194,
     "metadata": {},
     "output_type": "execute_result"
    }
   ],
   "source": [
    "t.issubset(s)"
   ]
  },
  {
   "cell_type": "code",
   "execution_count": 195,
   "id": "3080f87f",
   "metadata": {},
   "outputs": [
    {
     "data": {
      "text/plain": [
       "{2, 3, 5, 6, 7, 8, 9, 11}"
      ]
     },
     "execution_count": 195,
     "metadata": {},
     "output_type": "execute_result"
    }
   ],
   "source": [
    "s.add(11); s"
   ]
  },
  {
   "cell_type": "code",
   "execution_count": 196,
   "id": "2ce8c025",
   "metadata": {},
   "outputs": [
    {
     "data": {
      "text/plain": [
       "{2, 3, 5, 7, 11}"
      ]
     },
     "execution_count": 196,
     "metadata": {},
     "output_type": "execute_result"
    }
   ],
   "source": [
    "t.remove(13); t"
   ]
  },
  {
   "cell_type": "code",
   "execution_count": 197,
   "id": "ab23d206",
   "metadata": {},
   "outputs": [
    {
     "data": {
      "text/plain": [
       "True"
      ]
     },
     "execution_count": 197,
     "metadata": {},
     "output_type": "execute_result"
    }
   ],
   "source": [
    "s>t"
   ]
  },
  {
   "cell_type": "code",
   "execution_count": 198,
   "id": "2667c135",
   "metadata": {},
   "outputs": [
    {
     "data": {
      "text/plain": [
       "(False, True)"
      ]
     },
     "execution_count": 198,
     "metadata": {},
     "output_type": "execute_result"
    }
   ],
   "source": [
    "6 in t, 7 in t"
   ]
  },
  {
   "cell_type": "code",
   "execution_count": 199,
   "id": "f34ecd95",
   "metadata": {},
   "outputs": [
    {
     "data": {
      "text/plain": [
       "set()"
      ]
     },
     "execution_count": 199,
     "metadata": {},
     "output_type": "execute_result"
    }
   ],
   "source": [
    "t.clear(); t"
   ]
  },
  {
   "cell_type": "code",
   "execution_count": 200,
   "id": "9e556917",
   "metadata": {},
   "outputs": [],
   "source": [
    "contacts={\"Tom\":12345, \"Jerry\":54321, \"Mary\":23415}"
   ]
  },
  {
   "cell_type": "code",
   "execution_count": 201,
   "id": "7d0128b5",
   "metadata": {},
   "outputs": [
    {
     "data": {
      "text/plain": [
       "{'Tom': 12345, 'Jerry': 54321, 'Mary': 23415}"
      ]
     },
     "execution_count": 201,
     "metadata": {},
     "output_type": "execute_result"
    }
   ],
   "source": [
    "contacts"
   ]
  },
  {
   "cell_type": "code",
   "execution_count": 202,
   "id": "0f2af388",
   "metadata": {},
   "outputs": [
    {
     "data": {
      "text/plain": [
       "{'Tom': 12345, 'Jerry': 54123, 'Mary': 23415}"
      ]
     },
     "execution_count": 202,
     "metadata": {},
     "output_type": "execute_result"
    }
   ],
   "source": [
    "contacts[\"Jerry\"]=54123; contacts"
   ]
  },
  {
   "cell_type": "code",
   "execution_count": 203,
   "id": "258de334",
   "metadata": {},
   "outputs": [
    {
     "data": {
      "text/plain": [
       "{'Tom': 12345, 'Jerry': 54123, 'Mary': 23415, 'Betty': 35421}"
      ]
     },
     "execution_count": 203,
     "metadata": {},
     "output_type": "execute_result"
    }
   ],
   "source": [
    "contacts[\"Betty\"]=35421; contacts"
   ]
  },
  {
   "cell_type": "code",
   "execution_count": 204,
   "id": "784deec0",
   "metadata": {},
   "outputs": [
    {
     "data": {
      "text/plain": [
       "dict_keys(['Tom', 'Jerry', 'Mary', 'Betty'])"
      ]
     },
     "execution_count": 204,
     "metadata": {},
     "output_type": "execute_result"
    }
   ],
   "source": [
    "contacts.keys()"
   ]
  },
  {
   "cell_type": "code",
   "execution_count": 205,
   "id": "430049c5",
   "metadata": {},
   "outputs": [
    {
     "data": {
      "text/plain": [
       "[False, True]"
      ]
     },
     "execution_count": 205,
     "metadata": {},
     "output_type": "execute_result"
    }
   ],
   "source": [
    "['Tommy' in contacts, 'Betty' in contacts]"
   ]
  },
  {
   "cell_type": "code",
   "execution_count": 206,
   "id": "632def13",
   "metadata": {},
   "outputs": [
    {
     "data": {
      "text/plain": [
       "(54123, {'Tom': 12345, 'Mary': 23415, 'Betty': 35421})"
      ]
     },
     "execution_count": 206,
     "metadata": {},
     "output_type": "execute_result"
    }
   ],
   "source": [
    "(contacts.pop('Jerry'), contacts)"
   ]
  },
  {
   "cell_type": "code",
   "execution_count": 207,
   "id": "b3bbc623",
   "metadata": {},
   "outputs": [
    {
     "data": {
      "text/plain": [
       "(None, {'Tom': 12345, 'Mary': 23415, 'Betty': 35421})"
      ]
     },
     "execution_count": 207,
     "metadata": {},
     "output_type": "execute_result"
    }
   ],
   "source": [
    "(contacts.pop('Tommy', None), contacts)"
   ]
  },
  {
   "cell_type": "code",
   "execution_count": 208,
   "id": "68ab65fb",
   "metadata": {},
   "outputs": [
    {
     "data": {
      "text/plain": [
       "23415"
      ]
     },
     "execution_count": 208,
     "metadata": {},
     "output_type": "execute_result"
    }
   ],
   "source": [
    "contacts.get('Mary')"
   ]
  },
  {
   "cell_type": "code",
   "execution_count": 209,
   "id": "ccc2966f",
   "metadata": {},
   "outputs": [
    {
     "data": {
      "text/plain": [
       "3"
      ]
     },
     "execution_count": 209,
     "metadata": {},
     "output_type": "execute_result"
    }
   ],
   "source": [
    "len(contacts)"
   ]
  },
  {
   "cell_type": "code",
   "execution_count": 210,
   "id": "f6dc1c9c",
   "metadata": {},
   "outputs": [
    {
     "data": {
      "text/plain": [
       "{}"
      ]
     },
     "execution_count": 210,
     "metadata": {},
     "output_type": "execute_result"
    }
   ],
   "source": [
    "contacts.clear(); contacts"
   ]
  },
  {
   "cell_type": "code",
   "execution_count": 211,
   "id": "0b3e50eb",
   "metadata": {},
   "outputs": [],
   "source": [
    "d1 = {'u':8, 'v':6, 'w':4, 'x':2}; d2 = {'x':1, 'y':3, 'z':5}"
   ]
  },
  {
   "cell_type": "code",
   "execution_count": 212,
   "id": "872d8a27",
   "metadata": {},
   "outputs": [
    {
     "data": {
      "text/plain": [
       "{'u': 8, 'v': 6, 'w': 4, 'x': 1, 'y': 3, 'z': 5}"
      ]
     },
     "execution_count": 212,
     "metadata": {},
     "output_type": "execute_result"
    }
   ],
   "source": [
    "d1.update(d2); d1"
   ]
  },
  {
   "cell_type": "code",
   "execution_count": 213,
   "id": "f6275748",
   "metadata": {},
   "outputs": [],
   "source": [
    "d1 = {'u':8, 'v':6, 'w':4, 'x':2}; d2 = {'x':1, 'y':3, 'z':5}"
   ]
  },
  {
   "cell_type": "code",
   "execution_count": 214,
   "id": "574231a1",
   "metadata": {},
   "outputs": [
    {
     "data": {
      "text/plain": [
       "{'u': 8, 'v': 6, 'w': 4, 'x': 1, 'y': 3, 'z': 5}"
      ]
     },
     "execution_count": 214,
     "metadata": {},
     "output_type": "execute_result"
    }
   ],
   "source": [
    "d1 | d2"
   ]
  },
  {
   "cell_type": "code",
   "execution_count": 215,
   "id": "21a77a46",
   "metadata": {},
   "outputs": [
    {
     "data": {
      "text/plain": [
       "{'x': 2, 'y': 3, 'z': 5, 'u': 8, 'v': 6, 'w': 4}"
      ]
     },
     "execution_count": 215,
     "metadata": {},
     "output_type": "execute_result"
    }
   ],
   "source": [
    "d2 | d1"
   ]
  },
  {
   "cell_type": "code",
   "execution_count": 216,
   "id": "50c56d8f",
   "metadata": {},
   "outputs": [
    {
     "data": {
      "text/plain": [
       "{'u': 8, 'v': 6, 'w': 4, 'x': 2}"
      ]
     },
     "execution_count": 216,
     "metadata": {},
     "output_type": "execute_result"
    }
   ],
   "source": [
    "d1"
   ]
  },
  {
   "cell_type": "code",
   "execution_count": 217,
   "id": "115415ed",
   "metadata": {},
   "outputs": [
    {
     "data": {
      "text/plain": [
       "{'x': 1, 'y': 3, 'z': 5}"
      ]
     },
     "execution_count": 217,
     "metadata": {},
     "output_type": "execute_result"
    }
   ],
   "source": [
    "d2"
   ]
  },
  {
   "cell_type": "code",
   "execution_count": null,
   "id": "6c8e5f78",
   "metadata": {},
   "outputs": [],
   "source": []
  }
 ],
 "metadata": {
  "kernelspec": {
   "display_name": "d2l",
   "language": "python",
   "name": "python3"
  },
  "language_info": {
   "codemirror_mode": {
    "name": "ipython",
    "version": 3
   },
   "file_extension": ".py",
   "mimetype": "text/x-python",
   "name": "python",
   "nbconvert_exporter": "python",
   "pygments_lexer": "ipython3",
   "version": "3.9.23"
  }
 },
 "nbformat": 4,
 "nbformat_minor": 5
}
